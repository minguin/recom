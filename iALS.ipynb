{
 "cells": [
  {
   "cell_type": "markdown",
   "id": "c0dccd9c",
   "metadata": {},
   "source": [
    "# iALS"
   ]
  },
  {
   "cell_type": "code",
   "execution_count": 1,
   "id": "c302ab23",
   "metadata": {},
   "outputs": [],
   "source": [
    "# 親のフォルダのパスを追加\n",
    "import sys; sys.path.insert(0, '..')\n",
    "\n",
    "from util.data_loader import DataLoader\n",
    "from util.metric_calculator import MetricCalculator"
   ]
  },
  {
   "cell_type": "code",
   "execution_count": 2,
   "id": "4f1322e1",
   "metadata": {},
   "outputs": [],
   "source": [
    "# Movielensのデータの読み込み\n",
    "data_loader = DataLoader(num_users=1000, num_test_items=5, data_path='../data/ml-10M100K/')\n",
    "movielens = data_loader.load()"
   ]
  },
  {
   "cell_type": "code",
   "execution_count": 3,
   "id": "bf47abe9",
   "metadata": {
    "scrolled": false
   },
   "outputs": [],
   "source": [
    "# iALSレコメンド\n",
    "from src.ials import iALSRecommender\n",
    "recommender = iALSRecommender()"
   ]
  },
  {
   "cell_type": "code",
   "execution_count": 4,
   "id": "c323da0a",
   "metadata": {},
   "outputs": [
    {
     "name": "stderr",
     "output_type": "stream",
     "text": [
      "C:\\Users\\tmina\\Google ドライブ\\github\\RecommenderSystems\\chapter5\\notebook\\..\\src\\ials.py:235: SparseEfficiencyWarning: Comparing a sparse matrix with a nonzero scalar using != is inefficient, try using == instead.\n",
      "  test_pos_pairs = np.column_stack((movielens_matrix!=1).nonzero())\n"
     ]
    },
    {
     "name": "stdout",
     "output_type": "stream",
     "text": [
      "rmse=0.000, Precision@K=0.024, Recall@K=0.074\n"
     ]
    }
   ],
   "source": [
    "# 評価\n",
    "recommend_result = recommender.recommend(movielens,epochs=16)\n",
    "metric_calculator = MetricCalculator()\n",
    "metrics = metric_calculator.calc(\n",
    "    movielens.test.rating.tolist(), recommend_result.rating.tolist(),\n",
    "    movielens.test_user2items, recommend_result.user2items, k=10)\n",
    "print(metrics)"
   ]
  },
  {
   "cell_type": "code",
   "execution_count": 5,
   "id": "96ec001f",
   "metadata": {},
   "outputs": [
    {
     "name": "stderr",
     "output_type": "stream",
     "text": [
      "C:\\Users\\tmina\\Google ドライブ\\github\\RecommenderSystems\\chapter5\\notebook\\..\\src\\ials.py:235: SparseEfficiencyWarning: Comparing a sparse matrix with a nonzero scalar using != is inefficient, try using == instead.\n",
      "  test_pos_pairs = np.column_stack((movielens_matrix!=1).nonzero())\n"
     ]
    },
    {
     "name": "stdout",
     "output_type": "stream",
     "text": [
      "2 0.1 1 0.015434782608695654 0.0491304347826087\n"
     ]
    },
    {
     "name": "stderr",
     "output_type": "stream",
     "text": [
      "C:\\Users\\tmina\\Google ドライブ\\github\\RecommenderSystems\\chapter5\\notebook\\..\\src\\ials.py:235: SparseEfficiencyWarning: Comparing a sparse matrix with a nonzero scalar using != is inefficient, try using == instead.\n",
      "  test_pos_pairs = np.column_stack((movielens_matrix!=1).nonzero())\n"
     ]
    },
    {
     "name": "stdout",
     "output_type": "stream",
     "text": [
      "2 0.1 0.3 0.01532608695652174 0.04889492753623188\n"
     ]
    },
    {
     "name": "stderr",
     "output_type": "stream",
     "text": [
      "C:\\Users\\tmina\\Google ドライブ\\github\\RecommenderSystems\\chapter5\\notebook\\..\\src\\ials.py:235: SparseEfficiencyWarning: Comparing a sparse matrix with a nonzero scalar using != is inefficient, try using == instead.\n",
      "  test_pos_pairs = np.column_stack((movielens_matrix!=1).nonzero())\n"
     ]
    },
    {
     "name": "stdout",
     "output_type": "stream",
     "text": [
      "2 0.1 0.1 0.01608695652173913 0.05014492753623188\n"
     ]
    },
    {
     "name": "stderr",
     "output_type": "stream",
     "text": [
      "C:\\Users\\tmina\\Google ドライブ\\github\\RecommenderSystems\\chapter5\\notebook\\..\\src\\ials.py:235: SparseEfficiencyWarning: Comparing a sparse matrix with a nonzero scalar using != is inefficient, try using == instead.\n",
      "  test_pos_pairs = np.column_stack((movielens_matrix!=1).nonzero())\n"
     ]
    },
    {
     "name": "stdout",
     "output_type": "stream",
     "text": [
      "2 0.1 0.03 0.018043478260869567 0.05976449275362318\n"
     ]
    },
    {
     "name": "stderr",
     "output_type": "stream",
     "text": [
      "C:\\Users\\tmina\\Google ドライブ\\github\\RecommenderSystems\\chapter5\\notebook\\..\\src\\ials.py:235: SparseEfficiencyWarning: Comparing a sparse matrix with a nonzero scalar using != is inefficient, try using == instead.\n",
      "  test_pos_pairs = np.column_stack((movielens_matrix!=1).nonzero())\n"
     ]
    },
    {
     "name": "stdout",
     "output_type": "stream",
     "text": [
      "2 0.1 0.01 0.015108695652173914 0.04971014492753623\n"
     ]
    },
    {
     "name": "stderr",
     "output_type": "stream",
     "text": [
      "C:\\Users\\tmina\\Google ドライブ\\github\\RecommenderSystems\\chapter5\\notebook\\..\\src\\ials.py:235: SparseEfficiencyWarning: Comparing a sparse matrix with a nonzero scalar using != is inefficient, try using == instead.\n",
      "  test_pos_pairs = np.column_stack((movielens_matrix!=1).nonzero())\n"
     ]
    },
    {
     "name": "stdout",
     "output_type": "stream",
     "text": [
      "2 0.1 0.003 0.01032608695652174 0.03164855072463768\n"
     ]
    },
    {
     "name": "stderr",
     "output_type": "stream",
     "text": [
      "C:\\Users\\tmina\\Google ドライブ\\github\\RecommenderSystems\\chapter5\\notebook\\..\\src\\ials.py:235: SparseEfficiencyWarning: Comparing a sparse matrix with a nonzero scalar using != is inefficient, try using == instead.\n",
      "  test_pos_pairs = np.column_stack((movielens_matrix!=1).nonzero())\n"
     ]
    },
    {
     "name": "stdout",
     "output_type": "stream",
     "text": [
      "2 0.03 1 0.015326086956521741 0.04891304347826087\n"
     ]
    },
    {
     "name": "stderr",
     "output_type": "stream",
     "text": [
      "C:\\Users\\tmina\\Google ドライブ\\github\\RecommenderSystems\\chapter5\\notebook\\..\\src\\ials.py:235: SparseEfficiencyWarning: Comparing a sparse matrix with a nonzero scalar using != is inefficient, try using == instead.\n",
      "  test_pos_pairs = np.column_stack((movielens_matrix!=1).nonzero())\n"
     ]
    },
    {
     "name": "stdout",
     "output_type": "stream",
     "text": [
      "2 0.03 0.3 0.01847826086956522 0.05972826086956521\n"
     ]
    },
    {
     "name": "stderr",
     "output_type": "stream",
     "text": [
      "C:\\Users\\tmina\\Google ドライブ\\github\\RecommenderSystems\\chapter5\\notebook\\..\\src\\ials.py:235: SparseEfficiencyWarning: Comparing a sparse matrix with a nonzero scalar using != is inefficient, try using == instead.\n",
      "  test_pos_pairs = np.column_stack((movielens_matrix!=1).nonzero())\n"
     ]
    },
    {
     "name": "stdout",
     "output_type": "stream",
     "text": [
      "2 0.03 0.1 0.019456521739130435 0.06382246376811594\n"
     ]
    },
    {
     "name": "stderr",
     "output_type": "stream",
     "text": [
      "C:\\Users\\tmina\\Google ドライブ\\github\\RecommenderSystems\\chapter5\\notebook\\..\\src\\ials.py:235: SparseEfficiencyWarning: Comparing a sparse matrix with a nonzero scalar using != is inefficient, try using == instead.\n",
      "  test_pos_pairs = np.column_stack((movielens_matrix!=1).nonzero())\n"
     ]
    },
    {
     "name": "stdout",
     "output_type": "stream",
     "text": [
      "2 0.03 0.03 0.016847826086956525 0.056847826086956516\n"
     ]
    },
    {
     "name": "stderr",
     "output_type": "stream",
     "text": [
      "C:\\Users\\tmina\\Google ドライブ\\github\\RecommenderSystems\\chapter5\\notebook\\..\\src\\ials.py:235: SparseEfficiencyWarning: Comparing a sparse matrix with a nonzero scalar using != is inefficient, try using == instead.\n",
      "  test_pos_pairs = np.column_stack((movielens_matrix!=1).nonzero())\n"
     ]
    },
    {
     "name": "stdout",
     "output_type": "stream",
     "text": [
      "2 0.03 0.01 0.013695652173913045 0.043351449275362317\n"
     ]
    },
    {
     "name": "stderr",
     "output_type": "stream",
     "text": [
      "C:\\Users\\tmina\\Google ドライブ\\github\\RecommenderSystems\\chapter5\\notebook\\..\\src\\ials.py:235: SparseEfficiencyWarning: Comparing a sparse matrix with a nonzero scalar using != is inefficient, try using == instead.\n",
      "  test_pos_pairs = np.column_stack((movielens_matrix!=1).nonzero())\n"
     ]
    },
    {
     "name": "stdout",
     "output_type": "stream",
     "text": [
      "2 0.03 0.003 0.00826086956521739 0.024945652173913042\n"
     ]
    },
    {
     "name": "stderr",
     "output_type": "stream",
     "text": [
      "C:\\Users\\tmina\\Google ドライブ\\github\\RecommenderSystems\\chapter5\\notebook\\..\\src\\ials.py:235: SparseEfficiencyWarning: Comparing a sparse matrix with a nonzero scalar using != is inefficient, try using == instead.\n",
      "  test_pos_pairs = np.column_stack((movielens_matrix!=1).nonzero())\n"
     ]
    },
    {
     "name": "stdout",
     "output_type": "stream",
     "text": [
      "2 0.01 1 0.019347826086956524 0.06121376811594202\n"
     ]
    },
    {
     "name": "stderr",
     "output_type": "stream",
     "text": [
      "C:\\Users\\tmina\\Google ドライブ\\github\\RecommenderSystems\\chapter5\\notebook\\..\\src\\ials.py:235: SparseEfficiencyWarning: Comparing a sparse matrix with a nonzero scalar using != is inefficient, try using == instead.\n",
      "  test_pos_pairs = np.column_stack((movielens_matrix!=1).nonzero())\n"
     ]
    },
    {
     "name": "stdout",
     "output_type": "stream",
     "text": [
      "2 0.01 0.3 0.020217391304347826 0.0652355072463768\n"
     ]
    },
    {
     "name": "stderr",
     "output_type": "stream",
     "text": [
      "C:\\Users\\tmina\\Google ドライブ\\github\\RecommenderSystems\\chapter5\\notebook\\..\\src\\ials.py:235: SparseEfficiencyWarning: Comparing a sparse matrix with a nonzero scalar using != is inefficient, try using == instead.\n",
      "  test_pos_pairs = np.column_stack((movielens_matrix!=1).nonzero())\n"
     ]
    },
    {
     "name": "stdout",
     "output_type": "stream",
     "text": [
      "2 0.01 0.1 0.0191304347826087 0.06353260869565218\n"
     ]
    },
    {
     "name": "stderr",
     "output_type": "stream",
     "text": [
      "C:\\Users\\tmina\\Google ドライブ\\github\\RecommenderSystems\\chapter5\\notebook\\..\\src\\ials.py:235: SparseEfficiencyWarning: Comparing a sparse matrix with a nonzero scalar using != is inefficient, try using == instead.\n",
      "  test_pos_pairs = np.column_stack((movielens_matrix!=1).nonzero())\n"
     ]
    },
    {
     "name": "stdout",
     "output_type": "stream",
     "text": [
      "2 0.01 0.03 0.0166304347826087 0.05465579710144927\n"
     ]
    },
    {
     "name": "stderr",
     "output_type": "stream",
     "text": [
      "C:\\Users\\tmina\\Google ドライブ\\github\\RecommenderSystems\\chapter5\\notebook\\..\\src\\ials.py:235: SparseEfficiencyWarning: Comparing a sparse matrix with a nonzero scalar using != is inefficient, try using == instead.\n",
      "  test_pos_pairs = np.column_stack((movielens_matrix!=1).nonzero())\n"
     ]
    },
    {
     "name": "stdout",
     "output_type": "stream",
     "text": [
      "2 0.01 0.01 0.014130434782608696 0.04594202898550725\n"
     ]
    },
    {
     "name": "stderr",
     "output_type": "stream",
     "text": [
      "C:\\Users\\tmina\\Google ドライブ\\github\\RecommenderSystems\\chapter5\\notebook\\..\\src\\ials.py:235: SparseEfficiencyWarning: Comparing a sparse matrix with a nonzero scalar using != is inefficient, try using == instead.\n",
      "  test_pos_pairs = np.column_stack((movielens_matrix!=1).nonzero())\n"
     ]
    },
    {
     "name": "stdout",
     "output_type": "stream",
     "text": [
      "2 0.01 0.003 0.00782608695652174 0.02385869565217391\n"
     ]
    },
    {
     "name": "stderr",
     "output_type": "stream",
     "text": [
      "C:\\Users\\tmina\\Google ドライブ\\github\\RecommenderSystems\\chapter5\\notebook\\..\\src\\ials.py:235: SparseEfficiencyWarning: Comparing a sparse matrix with a nonzero scalar using != is inefficient, try using == instead.\n",
      "  test_pos_pairs = np.column_stack((movielens_matrix!=1).nonzero())\n"
     ]
    },
    {
     "name": "stdout",
     "output_type": "stream",
     "text": [
      "2 0.003 1 0.01891304347826087 0.06277173913043478\n"
     ]
    },
    {
     "name": "stderr",
     "output_type": "stream",
     "text": [
      "C:\\Users\\tmina\\Google ドライブ\\github\\RecommenderSystems\\chapter5\\notebook\\..\\src\\ials.py:235: SparseEfficiencyWarning: Comparing a sparse matrix with a nonzero scalar using != is inefficient, try using == instead.\n",
      "  test_pos_pairs = np.column_stack((movielens_matrix!=1).nonzero())\n"
     ]
    },
    {
     "name": "stdout",
     "output_type": "stream",
     "text": [
      "2 0.003 0.3 0.019347826086956527 0.06432971014492753\n"
     ]
    },
    {
     "name": "stderr",
     "output_type": "stream",
     "text": [
      "C:\\Users\\tmina\\Google ドライブ\\github\\RecommenderSystems\\chapter5\\notebook\\..\\src\\ials.py:235: SparseEfficiencyWarning: Comparing a sparse matrix with a nonzero scalar using != is inefficient, try using == instead.\n",
      "  test_pos_pairs = np.column_stack((movielens_matrix!=1).nonzero())\n"
     ]
    },
    {
     "name": "stdout",
     "output_type": "stream",
     "text": [
      "2 0.003 0.1 0.018586956521739133 0.0613768115942029\n"
     ]
    },
    {
     "name": "stderr",
     "output_type": "stream",
     "text": [
      "C:\\Users\\tmina\\Google ドライブ\\github\\RecommenderSystems\\chapter5\\notebook\\..\\src\\ials.py:235: SparseEfficiencyWarning: Comparing a sparse matrix with a nonzero scalar using != is inefficient, try using == instead.\n",
      "  test_pos_pairs = np.column_stack((movielens_matrix!=1).nonzero())\n"
     ]
    },
    {
     "name": "stdout",
     "output_type": "stream",
     "text": [
      "2 0.003 0.03 0.01684782608695652 0.05499999999999999\n"
     ]
    },
    {
     "name": "stderr",
     "output_type": "stream",
     "text": [
      "C:\\Users\\tmina\\Google ドライブ\\github\\RecommenderSystems\\chapter5\\notebook\\..\\src\\ials.py:235: SparseEfficiencyWarning: Comparing a sparse matrix with a nonzero scalar using != is inefficient, try using == instead.\n",
      "  test_pos_pairs = np.column_stack((movielens_matrix!=1).nonzero())\n"
     ]
    },
    {
     "name": "stdout",
     "output_type": "stream",
     "text": [
      "2 0.003 0.01 0.014021739130434781 0.04440217391304347\n"
     ]
    },
    {
     "name": "stderr",
     "output_type": "stream",
     "text": [
      "C:\\Users\\tmina\\Google ドライブ\\github\\RecommenderSystems\\chapter5\\notebook\\..\\src\\ials.py:235: SparseEfficiencyWarning: Comparing a sparse matrix with a nonzero scalar using != is inefficient, try using == instead.\n",
      "  test_pos_pairs = np.column_stack((movielens_matrix!=1).nonzero())\n"
     ]
    },
    {
     "name": "stdout",
     "output_type": "stream",
     "text": [
      "2 0.003 0.003 0.007500000000000001 0.022717391304347825\n"
     ]
    },
    {
     "name": "stderr",
     "output_type": "stream",
     "text": [
      "C:\\Users\\tmina\\Google ドライブ\\github\\RecommenderSystems\\chapter5\\notebook\\..\\src\\ials.py:235: SparseEfficiencyWarning: Comparing a sparse matrix with a nonzero scalar using != is inefficient, try using == instead.\n",
      "  test_pos_pairs = np.column_stack((movielens_matrix!=1).nonzero())\n"
     ]
    },
    {
     "name": "stdout",
     "output_type": "stream",
     "text": [
      "2 0.001 1 0.019891304347826082 0.0638768115942029\n"
     ]
    },
    {
     "name": "stderr",
     "output_type": "stream",
     "text": [
      "C:\\Users\\tmina\\Google ドライブ\\github\\RecommenderSystems\\chapter5\\notebook\\..\\src\\ials.py:235: SparseEfficiencyWarning: Comparing a sparse matrix with a nonzero scalar using != is inefficient, try using == instead.\n",
      "  test_pos_pairs = np.column_stack((movielens_matrix!=1).nonzero())\n"
     ]
    },
    {
     "name": "stdout",
     "output_type": "stream",
     "text": [
      "2 0.001 0.3 0.0191304347826087 0.0631159420289855\n"
     ]
    },
    {
     "name": "stderr",
     "output_type": "stream",
     "text": [
      "C:\\Users\\tmina\\Google ドライブ\\github\\RecommenderSystems\\chapter5\\notebook\\..\\src\\ials.py:235: SparseEfficiencyWarning: Comparing a sparse matrix with a nonzero scalar using != is inefficient, try using == instead.\n",
      "  test_pos_pairs = np.column_stack((movielens_matrix!=1).nonzero())\n"
     ]
    },
    {
     "name": "stdout",
     "output_type": "stream",
     "text": [
      "2 0.001 0.1 0.01782608695652174 0.059438405797101454\n"
     ]
    },
    {
     "name": "stderr",
     "output_type": "stream",
     "text": [
      "C:\\Users\\tmina\\Google ドライブ\\github\\RecommenderSystems\\chapter5\\notebook\\..\\src\\ials.py:235: SparseEfficiencyWarning: Comparing a sparse matrix with a nonzero scalar using != is inefficient, try using == instead.\n",
      "  test_pos_pairs = np.column_stack((movielens_matrix!=1).nonzero())\n"
     ]
    },
    {
     "name": "stdout",
     "output_type": "stream",
     "text": [
      "2 0.001 0.03 0.016847826086956525 0.05409420289855072\n"
     ]
    },
    {
     "name": "stderr",
     "output_type": "stream",
     "text": [
      "C:\\Users\\tmina\\Google ドライブ\\github\\RecommenderSystems\\chapter5\\notebook\\..\\src\\ials.py:235: SparseEfficiencyWarning: Comparing a sparse matrix with a nonzero scalar using != is inefficient, try using == instead.\n",
      "  test_pos_pairs = np.column_stack((movielens_matrix!=1).nonzero())\n"
     ]
    },
    {
     "name": "stdout",
     "output_type": "stream",
     "text": [
      "2 0.001 0.01 0.01423913043478261 0.04485507246376812\n"
     ]
    },
    {
     "name": "stderr",
     "output_type": "stream",
     "text": [
      "C:\\Users\\tmina\\Google ドライブ\\github\\RecommenderSystems\\chapter5\\notebook\\..\\src\\ials.py:235: SparseEfficiencyWarning: Comparing a sparse matrix with a nonzero scalar using != is inefficient, try using == instead.\n",
      "  test_pos_pairs = np.column_stack((movielens_matrix!=1).nonzero())\n"
     ]
    },
    {
     "name": "stdout",
     "output_type": "stream",
     "text": [
      "2 0.001 0.003 0.006956521739130435 0.02240942028985507\n"
     ]
    },
    {
     "name": "stderr",
     "output_type": "stream",
     "text": [
      "C:\\Users\\tmina\\Google ドライブ\\github\\RecommenderSystems\\chapter5\\notebook\\..\\src\\ials.py:235: SparseEfficiencyWarning: Comparing a sparse matrix with a nonzero scalar using != is inefficient, try using == instead.\n",
      "  test_pos_pairs = np.column_stack((movielens_matrix!=1).nonzero())\n"
     ]
    },
    {
     "name": "stdout",
     "output_type": "stream",
     "text": [
      "2 0.0003 1 0.017717391304347827 0.056123188405797095\n"
     ]
    },
    {
     "name": "stderr",
     "output_type": "stream",
     "text": [
      "C:\\Users\\tmina\\Google ドライブ\\github\\RecommenderSystems\\chapter5\\notebook\\..\\src\\ials.py:235: SparseEfficiencyWarning: Comparing a sparse matrix with a nonzero scalar using != is inefficient, try using == instead.\n",
      "  test_pos_pairs = np.column_stack((movielens_matrix!=1).nonzero())\n"
     ]
    },
    {
     "name": "stdout",
     "output_type": "stream",
     "text": [
      "2 0.0003 0.3 0.01891304347826087 0.062481884057971004\n"
     ]
    },
    {
     "name": "stderr",
     "output_type": "stream",
     "text": [
      "C:\\Users\\tmina\\Google ドライブ\\github\\RecommenderSystems\\chapter5\\notebook\\..\\src\\ials.py:235: SparseEfficiencyWarning: Comparing a sparse matrix with a nonzero scalar using != is inefficient, try using == instead.\n",
      "  test_pos_pairs = np.column_stack((movielens_matrix!=1).nonzero())\n"
     ]
    },
    {
     "name": "stdout",
     "output_type": "stream",
     "text": [
      "2 0.0003 0.1 0.017608695652173916 0.059438405797101454\n"
     ]
    },
    {
     "name": "stderr",
     "output_type": "stream",
     "text": [
      "C:\\Users\\tmina\\Google ドライブ\\github\\RecommenderSystems\\chapter5\\notebook\\..\\src\\ials.py:235: SparseEfficiencyWarning: Comparing a sparse matrix with a nonzero scalar using != is inefficient, try using == instead.\n",
      "  test_pos_pairs = np.column_stack((movielens_matrix!=1).nonzero())\n"
     ]
    },
    {
     "name": "stdout",
     "output_type": "stream",
     "text": [
      "2 0.0003 0.03 0.01673913043478261 0.05387681159420289\n"
     ]
    },
    {
     "name": "stderr",
     "output_type": "stream",
     "text": [
      "C:\\Users\\tmina\\Google ドライブ\\github\\RecommenderSystems\\chapter5\\notebook\\..\\src\\ials.py:235: SparseEfficiencyWarning: Comparing a sparse matrix with a nonzero scalar using != is inefficient, try using == instead.\n",
      "  test_pos_pairs = np.column_stack((movielens_matrix!=1).nonzero())\n"
     ]
    },
    {
     "name": "stdout",
     "output_type": "stream",
     "text": [
      "2 0.0003 0.01 0.01391304347826087 0.04498188405797102\n"
     ]
    },
    {
     "name": "stderr",
     "output_type": "stream",
     "text": [
      "C:\\Users\\tmina\\Google ドライブ\\github\\RecommenderSystems\\chapter5\\notebook\\..\\src\\ials.py:235: SparseEfficiencyWarning: Comparing a sparse matrix with a nonzero scalar using != is inefficient, try using == instead.\n",
      "  test_pos_pairs = np.column_stack((movielens_matrix!=1).nonzero())\n"
     ]
    },
    {
     "name": "stdout",
     "output_type": "stream",
     "text": [
      "2 0.0003 0.003 0.007934782608695653 0.02398550724637681\n"
     ]
    },
    {
     "name": "stderr",
     "output_type": "stream",
     "text": [
      "C:\\Users\\tmina\\Google ドライブ\\github\\RecommenderSystems\\chapter5\\notebook\\..\\src\\ials.py:235: SparseEfficiencyWarning: Comparing a sparse matrix with a nonzero scalar using != is inefficient, try using == instead.\n",
      "  test_pos_pairs = np.column_stack((movielens_matrix!=1).nonzero())\n"
     ]
    },
    {
     "name": "stdout",
     "output_type": "stream",
     "text": [
      "4 0.1 1 0.015434782608695654 0.0491304347826087\n"
     ]
    },
    {
     "name": "stderr",
     "output_type": "stream",
     "text": [
      "C:\\Users\\tmina\\Google ドライブ\\github\\RecommenderSystems\\chapter5\\notebook\\..\\src\\ials.py:235: SparseEfficiencyWarning: Comparing a sparse matrix with a nonzero scalar using != is inefficient, try using == instead.\n",
      "  test_pos_pairs = np.column_stack((movielens_matrix!=1).nonzero())\n"
     ]
    },
    {
     "name": "stdout",
     "output_type": "stream",
     "text": [
      "4 0.1 0.3 0.01532608695652174 0.04889492753623188\n"
     ]
    },
    {
     "name": "stderr",
     "output_type": "stream",
     "text": [
      "C:\\Users\\tmina\\Google ドライブ\\github\\RecommenderSystems\\chapter5\\notebook\\..\\src\\ials.py:235: SparseEfficiencyWarning: Comparing a sparse matrix with a nonzero scalar using != is inefficient, try using == instead.\n",
      "  test_pos_pairs = np.column_stack((movielens_matrix!=1).nonzero())\n"
     ]
    },
    {
     "name": "stdout",
     "output_type": "stream",
     "text": [
      "4 0.1 0.1 0.01608695652173913 0.05014492753623188\n"
     ]
    },
    {
     "name": "stderr",
     "output_type": "stream",
     "text": [
      "C:\\Users\\tmina\\Google ドライブ\\github\\RecommenderSystems\\chapter5\\notebook\\..\\src\\ials.py:235: SparseEfficiencyWarning: Comparing a sparse matrix with a nonzero scalar using != is inefficient, try using == instead.\n",
      "  test_pos_pairs = np.column_stack((movielens_matrix!=1).nonzero())\n"
     ]
    },
    {
     "name": "stdout",
     "output_type": "stream",
     "text": [
      "4 0.1 0.03 0.01978260869565218 0.06329710144927536\n"
     ]
    },
    {
     "name": "stderr",
     "output_type": "stream",
     "text": [
      "C:\\Users\\tmina\\Google ドライブ\\github\\RecommenderSystems\\chapter5\\notebook\\..\\src\\ials.py:235: SparseEfficiencyWarning: Comparing a sparse matrix with a nonzero scalar using != is inefficient, try using == instead.\n",
      "  test_pos_pairs = np.column_stack((movielens_matrix!=1).nonzero())\n"
     ]
    },
    {
     "name": "stdout",
     "output_type": "stream",
     "text": [
      "4 0.1 0.01 0.01641304347826087 0.05320652173913044\n"
     ]
    },
    {
     "name": "stderr",
     "output_type": "stream",
     "text": [
      "C:\\Users\\tmina\\Google ドライブ\\github\\RecommenderSystems\\chapter5\\notebook\\..\\src\\ials.py:235: SparseEfficiencyWarning: Comparing a sparse matrix with a nonzero scalar using != is inefficient, try using == instead.\n",
      "  test_pos_pairs = np.column_stack((movielens_matrix!=1).nonzero())\n"
     ]
    },
    {
     "name": "stdout",
     "output_type": "stream",
     "text": [
      "4 0.1 0.003 0.013043478260869565 0.0415036231884058\n"
     ]
    },
    {
     "name": "stderr",
     "output_type": "stream",
     "text": [
      "C:\\Users\\tmina\\Google ドライブ\\github\\RecommenderSystems\\chapter5\\notebook\\..\\src\\ials.py:235: SparseEfficiencyWarning: Comparing a sparse matrix with a nonzero scalar using != is inefficient, try using == instead.\n",
      "  test_pos_pairs = np.column_stack((movielens_matrix!=1).nonzero())\n"
     ]
    },
    {
     "name": "stdout",
     "output_type": "stream",
     "text": [
      "4 0.03 1 0.015326086956521741 0.04891304347826087\n"
     ]
    },
    {
     "name": "stderr",
     "output_type": "stream",
     "text": [
      "C:\\Users\\tmina\\Google ドライブ\\github\\RecommenderSystems\\chapter5\\notebook\\..\\src\\ials.py:235: SparseEfficiencyWarning: Comparing a sparse matrix with a nonzero scalar using != is inefficient, try using == instead.\n",
      "  test_pos_pairs = np.column_stack((movielens_matrix!=1).nonzero())\n"
     ]
    },
    {
     "name": "stdout",
     "output_type": "stream",
     "text": [
      "4 0.03 0.3 0.022173913043478263 0.0726268115942029\n"
     ]
    },
    {
     "name": "stderr",
     "output_type": "stream",
     "text": [
      "C:\\Users\\tmina\\Google ドライブ\\github\\RecommenderSystems\\chapter5\\notebook\\..\\src\\ials.py:235: SparseEfficiencyWarning: Comparing a sparse matrix with a nonzero scalar using != is inefficient, try using == instead.\n",
      "  test_pos_pairs = np.column_stack((movielens_matrix!=1).nonzero())\n"
     ]
    },
    {
     "name": "stdout",
     "output_type": "stream",
     "text": [
      "4 0.03 0.1 0.021956521739130437 0.07123188405797101\n"
     ]
    },
    {
     "name": "stderr",
     "output_type": "stream",
     "text": [
      "C:\\Users\\tmina\\Google ドライブ\\github\\RecommenderSystems\\chapter5\\notebook\\..\\src\\ials.py:235: SparseEfficiencyWarning: Comparing a sparse matrix with a nonzero scalar using != is inefficient, try using == instead.\n",
      "  test_pos_pairs = np.column_stack((movielens_matrix!=1).nonzero())\n"
     ]
    },
    {
     "name": "stdout",
     "output_type": "stream",
     "text": [
      "4 0.03 0.03 0.01978260869565218 0.0646376811594203\n"
     ]
    },
    {
     "name": "stderr",
     "output_type": "stream",
     "text": [
      "C:\\Users\\tmina\\Google ドライブ\\github\\RecommenderSystems\\chapter5\\notebook\\..\\src\\ials.py:235: SparseEfficiencyWarning: Comparing a sparse matrix with a nonzero scalar using != is inefficient, try using == instead.\n",
      "  test_pos_pairs = np.column_stack((movielens_matrix!=1).nonzero())\n"
     ]
    },
    {
     "name": "stdout",
     "output_type": "stream",
     "text": [
      "4 0.03 0.01 0.01652173913043478 0.05550724637681159\n"
     ]
    },
    {
     "name": "stderr",
     "output_type": "stream",
     "text": [
      "C:\\Users\\tmina\\Google ドライブ\\github\\RecommenderSystems\\chapter5\\notebook\\..\\src\\ials.py:235: SparseEfficiencyWarning: Comparing a sparse matrix with a nonzero scalar using != is inefficient, try using == instead.\n",
      "  test_pos_pairs = np.column_stack((movielens_matrix!=1).nonzero())\n"
     ]
    },
    {
     "name": "stdout",
     "output_type": "stream",
     "text": [
      "4 0.03 0.003 0.013804347826086957 0.04635869565217391\n"
     ]
    },
    {
     "name": "stderr",
     "output_type": "stream",
     "text": [
      "C:\\Users\\tmina\\Google ドライブ\\github\\RecommenderSystems\\chapter5\\notebook\\..\\src\\ials.py:235: SparseEfficiencyWarning: Comparing a sparse matrix with a nonzero scalar using != is inefficient, try using == instead.\n",
      "  test_pos_pairs = np.column_stack((movielens_matrix!=1).nonzero())\n"
     ]
    },
    {
     "name": "stdout",
     "output_type": "stream",
     "text": [
      "4 0.01 1 0.021195652173913043 0.06757246376811593\n"
     ]
    },
    {
     "name": "stderr",
     "output_type": "stream",
     "text": [
      "C:\\Users\\tmina\\Google ドライブ\\github\\RecommenderSystems\\chapter5\\notebook\\..\\src\\ials.py:235: SparseEfficiencyWarning: Comparing a sparse matrix with a nonzero scalar using != is inefficient, try using == instead.\n",
      "  test_pos_pairs = np.column_stack((movielens_matrix!=1).nonzero())\n"
     ]
    },
    {
     "name": "stdout",
     "output_type": "stream",
     "text": [
      "4 0.01 0.3 0.021521739130434786 0.06960144927536231\n"
     ]
    },
    {
     "name": "stderr",
     "output_type": "stream",
     "text": [
      "C:\\Users\\tmina\\Google ドライブ\\github\\RecommenderSystems\\chapter5\\notebook\\..\\src\\ials.py:235: SparseEfficiencyWarning: Comparing a sparse matrix with a nonzero scalar using != is inefficient, try using == instead.\n",
      "  test_pos_pairs = np.column_stack((movielens_matrix!=1).nonzero())\n"
     ]
    },
    {
     "name": "stdout",
     "output_type": "stream",
     "text": [
      "4 0.01 0.1 0.021956521739130437 0.07117753623188404\n"
     ]
    },
    {
     "name": "stderr",
     "output_type": "stream",
     "text": [
      "C:\\Users\\tmina\\Google ドライブ\\github\\RecommenderSystems\\chapter5\\notebook\\..\\src\\ials.py:235: SparseEfficiencyWarning: Comparing a sparse matrix with a nonzero scalar using != is inefficient, try using == instead.\n",
      "  test_pos_pairs = np.column_stack((movielens_matrix!=1).nonzero())\n"
     ]
    },
    {
     "name": "stdout",
     "output_type": "stream",
     "text": [
      "4 0.01 0.03 0.018369565217391304 0.06063405797101449\n"
     ]
    },
    {
     "name": "stderr",
     "output_type": "stream",
     "text": [
      "C:\\Users\\tmina\\Google ドライブ\\github\\RecommenderSystems\\chapter5\\notebook\\..\\src\\ials.py:235: SparseEfficiencyWarning: Comparing a sparse matrix with a nonzero scalar using != is inefficient, try using == instead.\n",
      "  test_pos_pairs = np.column_stack((movielens_matrix!=1).nonzero())\n"
     ]
    },
    {
     "name": "stdout",
     "output_type": "stream",
     "text": [
      "4 0.01 0.01 0.015978260869565216 0.055362318840579704\n"
     ]
    },
    {
     "name": "stderr",
     "output_type": "stream",
     "text": [
      "C:\\Users\\tmina\\Google ドライブ\\github\\RecommenderSystems\\chapter5\\notebook\\..\\src\\ials.py:235: SparseEfficiencyWarning: Comparing a sparse matrix with a nonzero scalar using != is inefficient, try using == instead.\n",
      "  test_pos_pairs = np.column_stack((movielens_matrix!=1).nonzero())\n"
     ]
    },
    {
     "name": "stdout",
     "output_type": "stream",
     "text": [
      "4 0.01 0.003 0.009456521739130436 0.03128623188405797\n"
     ]
    },
    {
     "name": "stderr",
     "output_type": "stream",
     "text": [
      "C:\\Users\\tmina\\Google ドライブ\\github\\RecommenderSystems\\chapter5\\notebook\\..\\src\\ials.py:235: SparseEfficiencyWarning: Comparing a sparse matrix with a nonzero scalar using != is inefficient, try using == instead.\n",
      "  test_pos_pairs = np.column_stack((movielens_matrix!=1).nonzero())\n"
     ]
    },
    {
     "name": "stdout",
     "output_type": "stream",
     "text": [
      "4 0.003 1 0.021521739130434783 0.06831521739130435\n"
     ]
    },
    {
     "name": "stderr",
     "output_type": "stream",
     "text": [
      "C:\\Users\\tmina\\Google ドライブ\\github\\RecommenderSystems\\chapter5\\notebook\\..\\src\\ials.py:235: SparseEfficiencyWarning: Comparing a sparse matrix with a nonzero scalar using != is inefficient, try using == instead.\n",
      "  test_pos_pairs = np.column_stack((movielens_matrix!=1).nonzero())\n"
     ]
    },
    {
     "name": "stdout",
     "output_type": "stream",
     "text": [
      "4 0.003 0.3 0.021847826086956523 0.07047101449275361\n"
     ]
    },
    {
     "name": "stderr",
     "output_type": "stream",
     "text": [
      "C:\\Users\\tmina\\Google ドライブ\\github\\RecommenderSystems\\chapter5\\notebook\\..\\src\\ials.py:235: SparseEfficiencyWarning: Comparing a sparse matrix with a nonzero scalar using != is inefficient, try using == instead.\n",
      "  test_pos_pairs = np.column_stack((movielens_matrix!=1).nonzero())\n"
     ]
    },
    {
     "name": "stdout",
     "output_type": "stream",
     "text": [
      "4 0.003 0.1 0.021847826086956523 0.07128623188405797\n"
     ]
    },
    {
     "name": "stderr",
     "output_type": "stream",
     "text": [
      "C:\\Users\\tmina\\Google ドライブ\\github\\RecommenderSystems\\chapter5\\notebook\\..\\src\\ials.py:235: SparseEfficiencyWarning: Comparing a sparse matrix with a nonzero scalar using != is inefficient, try using == instead.\n",
      "  test_pos_pairs = np.column_stack((movielens_matrix!=1).nonzero())\n"
     ]
    },
    {
     "name": "stdout",
     "output_type": "stream",
     "text": [
      "4 0.003 0.03 0.0191304347826087 0.06389492753623188\n"
     ]
    },
    {
     "name": "stderr",
     "output_type": "stream",
     "text": [
      "C:\\Users\\tmina\\Google ドライブ\\github\\RecommenderSystems\\chapter5\\notebook\\..\\src\\ials.py:235: SparseEfficiencyWarning: Comparing a sparse matrix with a nonzero scalar using != is inefficient, try using == instead.\n",
      "  test_pos_pairs = np.column_stack((movielens_matrix!=1).nonzero())\n"
     ]
    },
    {
     "name": "stdout",
     "output_type": "stream",
     "text": [
      "4 0.003 0.01 0.014673913043478261 0.04701086956521739\n"
     ]
    },
    {
     "name": "stderr",
     "output_type": "stream",
     "text": [
      "C:\\Users\\tmina\\Google ドライブ\\github\\RecommenderSystems\\chapter5\\notebook\\..\\src\\ials.py:235: SparseEfficiencyWarning: Comparing a sparse matrix with a nonzero scalar using != is inefficient, try using == instead.\n",
      "  test_pos_pairs = np.column_stack((movielens_matrix!=1).nonzero())\n"
     ]
    },
    {
     "name": "stdout",
     "output_type": "stream",
     "text": [
      "4 0.003 0.003 0.010326086956521738 0.03385869565217391\n"
     ]
    },
    {
     "name": "stderr",
     "output_type": "stream",
     "text": [
      "C:\\Users\\tmina\\Google ドライブ\\github\\RecommenderSystems\\chapter5\\notebook\\..\\src\\ials.py:235: SparseEfficiencyWarning: Comparing a sparse matrix with a nonzero scalar using != is inefficient, try using == instead.\n",
      "  test_pos_pairs = np.column_stack((movielens_matrix!=1).nonzero())\n"
     ]
    },
    {
     "name": "stdout",
     "output_type": "stream",
     "text": [
      "4 0.001 1 0.019999999999999997 0.06454710144927536\n"
     ]
    },
    {
     "name": "stderr",
     "output_type": "stream",
     "text": [
      "C:\\Users\\tmina\\Google ドライブ\\github\\RecommenderSystems\\chapter5\\notebook\\..\\src\\ials.py:235: SparseEfficiencyWarning: Comparing a sparse matrix with a nonzero scalar using != is inefficient, try using == instead.\n",
      "  test_pos_pairs = np.column_stack((movielens_matrix!=1).nonzero())\n"
     ]
    },
    {
     "name": "stdout",
     "output_type": "stream",
     "text": [
      "4 0.001 0.3 0.019673913043478264 0.0638768115942029\n"
     ]
    },
    {
     "name": "stderr",
     "output_type": "stream",
     "text": [
      "C:\\Users\\tmina\\Google ドライブ\\github\\RecommenderSystems\\chapter5\\notebook\\..\\src\\ials.py:235: SparseEfficiencyWarning: Comparing a sparse matrix with a nonzero scalar using != is inefficient, try using == instead.\n",
      "  test_pos_pairs = np.column_stack((movielens_matrix!=1).nonzero())\n"
     ]
    },
    {
     "name": "stdout",
     "output_type": "stream",
     "text": [
      "4 0.001 0.1 0.020217391304347826 0.06773550724637681\n"
     ]
    },
    {
     "name": "stderr",
     "output_type": "stream",
     "text": [
      "C:\\Users\\tmina\\Google ドライブ\\github\\RecommenderSystems\\chapter5\\notebook\\..\\src\\ials.py:235: SparseEfficiencyWarning: Comparing a sparse matrix with a nonzero scalar using != is inefficient, try using == instead.\n",
      "  test_pos_pairs = np.column_stack((movielens_matrix!=1).nonzero())\n"
     ]
    },
    {
     "name": "stdout",
     "output_type": "stream",
     "text": [
      "4 0.001 0.03 0.018043478260869567 0.05858695652173913\n"
     ]
    },
    {
     "name": "stderr",
     "output_type": "stream",
     "text": [
      "C:\\Users\\tmina\\Google ドライブ\\github\\RecommenderSystems\\chapter5\\notebook\\..\\src\\ials.py:235: SparseEfficiencyWarning: Comparing a sparse matrix with a nonzero scalar using != is inefficient, try using == instead.\n",
      "  test_pos_pairs = np.column_stack((movielens_matrix!=1).nonzero())\n"
     ]
    },
    {
     "name": "stdout",
     "output_type": "stream",
     "text": [
      "4 0.001 0.01 0.013043478260869565 0.04514492753623188\n"
     ]
    },
    {
     "name": "stderr",
     "output_type": "stream",
     "text": [
      "C:\\Users\\tmina\\Google ドライブ\\github\\RecommenderSystems\\chapter5\\notebook\\..\\src\\ials.py:235: SparseEfficiencyWarning: Comparing a sparse matrix with a nonzero scalar using != is inefficient, try using == instead.\n",
      "  test_pos_pairs = np.column_stack((movielens_matrix!=1).nonzero())\n"
     ]
    },
    {
     "name": "stdout",
     "output_type": "stream",
     "text": [
      "4 0.001 0.003 0.007608695652173913 0.02585144927536232\n"
     ]
    },
    {
     "name": "stderr",
     "output_type": "stream",
     "text": [
      "C:\\Users\\tmina\\Google ドライブ\\github\\RecommenderSystems\\chapter5\\notebook\\..\\src\\ials.py:235: SparseEfficiencyWarning: Comparing a sparse matrix with a nonzero scalar using != is inefficient, try using == instead.\n",
      "  test_pos_pairs = np.column_stack((movielens_matrix!=1).nonzero())\n"
     ]
    },
    {
     "name": "stdout",
     "output_type": "stream",
     "text": [
      "4 0.0003 1 0.01989130434782609 0.06442028985507246\n"
     ]
    },
    {
     "name": "stderr",
     "output_type": "stream",
     "text": [
      "C:\\Users\\tmina\\Google ドライブ\\github\\RecommenderSystems\\chapter5\\notebook\\..\\src\\ials.py:235: SparseEfficiencyWarning: Comparing a sparse matrix with a nonzero scalar using != is inefficient, try using == instead.\n",
      "  test_pos_pairs = np.column_stack((movielens_matrix!=1).nonzero())\n"
     ]
    },
    {
     "name": "stdout",
     "output_type": "stream",
     "text": [
      "4 0.0003 0.3 0.021521739130434783 0.07125\n"
     ]
    },
    {
     "name": "stderr",
     "output_type": "stream",
     "text": [
      "C:\\Users\\tmina\\Google ドライブ\\github\\RecommenderSystems\\chapter5\\notebook\\..\\src\\ials.py:235: SparseEfficiencyWarning: Comparing a sparse matrix with a nonzero scalar using != is inefficient, try using == instead.\n",
      "  test_pos_pairs = np.column_stack((movielens_matrix!=1).nonzero())\n"
     ]
    },
    {
     "name": "stdout",
     "output_type": "stream",
     "text": [
      "4 0.0003 0.1 0.021739130434782608 0.07101449275362319\n"
     ]
    },
    {
     "name": "stderr",
     "output_type": "stream",
     "text": [
      "C:\\Users\\tmina\\Google ドライブ\\github\\RecommenderSystems\\chapter5\\notebook\\..\\src\\ials.py:235: SparseEfficiencyWarning: Comparing a sparse matrix with a nonzero scalar using != is inefficient, try using == instead.\n",
      "  test_pos_pairs = np.column_stack((movielens_matrix!=1).nonzero())\n"
     ]
    },
    {
     "name": "stdout",
     "output_type": "stream",
     "text": [
      "4 0.0003 0.03 0.018152173913043478 0.06086956521739131\n"
     ]
    },
    {
     "name": "stderr",
     "output_type": "stream",
     "text": [
      "C:\\Users\\tmina\\Google ドライブ\\github\\RecommenderSystems\\chapter5\\notebook\\..\\src\\ials.py:235: SparseEfficiencyWarning: Comparing a sparse matrix with a nonzero scalar using != is inefficient, try using == instead.\n",
      "  test_pos_pairs = np.column_stack((movielens_matrix!=1).nonzero())\n"
     ]
    },
    {
     "name": "stdout",
     "output_type": "stream",
     "text": [
      "4 0.0003 0.01 0.01282608695652174 0.04309782608695652\n"
     ]
    },
    {
     "name": "stderr",
     "output_type": "stream",
     "text": [
      "C:\\Users\\tmina\\Google ドライブ\\github\\RecommenderSystems\\chapter5\\notebook\\..\\src\\ials.py:235: SparseEfficiencyWarning: Comparing a sparse matrix with a nonzero scalar using != is inefficient, try using == instead.\n",
      "  test_pos_pairs = np.column_stack((movielens_matrix!=1).nonzero())\n"
     ]
    },
    {
     "name": "stdout",
     "output_type": "stream",
     "text": [
      "4 0.0003 0.003 0.008043478260869565 0.02605072463768116\n"
     ]
    },
    {
     "name": "stderr",
     "output_type": "stream",
     "text": [
      "C:\\Users\\tmina\\Google ドライブ\\github\\RecommenderSystems\\chapter5\\notebook\\..\\src\\ials.py:235: SparseEfficiencyWarning: Comparing a sparse matrix with a nonzero scalar using != is inefficient, try using == instead.\n",
      "  test_pos_pairs = np.column_stack((movielens_matrix!=1).nonzero())\n"
     ]
    },
    {
     "name": "stdout",
     "output_type": "stream",
     "text": [
      "8 0.1 1 0.015434782608695654 0.0491304347826087\n"
     ]
    },
    {
     "name": "stderr",
     "output_type": "stream",
     "text": [
      "C:\\Users\\tmina\\Google ドライブ\\github\\RecommenderSystems\\chapter5\\notebook\\..\\src\\ials.py:235: SparseEfficiencyWarning: Comparing a sparse matrix with a nonzero scalar using != is inefficient, try using == instead.\n",
      "  test_pos_pairs = np.column_stack((movielens_matrix!=1).nonzero())\n"
     ]
    },
    {
     "name": "stdout",
     "output_type": "stream",
     "text": [
      "8 0.1 0.3 0.015543478260869567 0.04961956521739131\n"
     ]
    },
    {
     "name": "stderr",
     "output_type": "stream",
     "text": [
      "C:\\Users\\tmina\\Google ドライブ\\github\\RecommenderSystems\\chapter5\\notebook\\..\\src\\ials.py:235: SparseEfficiencyWarning: Comparing a sparse matrix with a nonzero scalar using != is inefficient, try using == instead.\n",
      "  test_pos_pairs = np.column_stack((movielens_matrix!=1).nonzero())\n"
     ]
    },
    {
     "name": "stdout",
     "output_type": "stream",
     "text": [
      "8 0.1 0.1 0.01608695652173913 0.05014492753623188\n"
     ]
    },
    {
     "name": "stderr",
     "output_type": "stream",
     "text": [
      "C:\\Users\\tmina\\Google ドライブ\\github\\RecommenderSystems\\chapter5\\notebook\\..\\src\\ials.py:235: SparseEfficiencyWarning: Comparing a sparse matrix with a nonzero scalar using != is inefficient, try using == instead.\n",
      "  test_pos_pairs = np.column_stack((movielens_matrix!=1).nonzero())\n"
     ]
    },
    {
     "name": "stdout",
     "output_type": "stream",
     "text": [
      "8 0.1 0.03 0.019891304347826082 0.06438405797101447\n"
     ]
    },
    {
     "name": "stderr",
     "output_type": "stream",
     "text": [
      "C:\\Users\\tmina\\Google ドライブ\\github\\RecommenderSystems\\chapter5\\notebook\\..\\src\\ials.py:235: SparseEfficiencyWarning: Comparing a sparse matrix with a nonzero scalar using != is inefficient, try using == instead.\n",
      "  test_pos_pairs = np.column_stack((movielens_matrix!=1).nonzero())\n"
     ]
    },
    {
     "name": "stdout",
     "output_type": "stream",
     "text": [
      "8 0.1 0.01 0.017282608695652173 0.05355072463768116\n"
     ]
    },
    {
     "name": "stderr",
     "output_type": "stream",
     "text": [
      "C:\\Users\\tmina\\Google ドライブ\\github\\RecommenderSystems\\chapter5\\notebook\\..\\src\\ials.py:235: SparseEfficiencyWarning: Comparing a sparse matrix with a nonzero scalar using != is inefficient, try using == instead.\n",
      "  test_pos_pairs = np.column_stack((movielens_matrix!=1).nonzero())\n"
     ]
    },
    {
     "name": "stdout",
     "output_type": "stream",
     "text": [
      "8 0.1 0.003 0.014456521739130436 0.04416666666666667\n"
     ]
    },
    {
     "name": "stderr",
     "output_type": "stream",
     "text": [
      "C:\\Users\\tmina\\Google ドライブ\\github\\RecommenderSystems\\chapter5\\notebook\\..\\src\\ials.py:235: SparseEfficiencyWarning: Comparing a sparse matrix with a nonzero scalar using != is inefficient, try using == instead.\n",
      "  test_pos_pairs = np.column_stack((movielens_matrix!=1).nonzero())\n"
     ]
    },
    {
     "name": "stdout",
     "output_type": "stream",
     "text": [
      "8 0.03 1 0.015326086956521741 0.04891304347826087\n"
     ]
    },
    {
     "name": "stderr",
     "output_type": "stream",
     "text": [
      "C:\\Users\\tmina\\Google ドライブ\\github\\RecommenderSystems\\chapter5\\notebook\\..\\src\\ials.py:235: SparseEfficiencyWarning: Comparing a sparse matrix with a nonzero scalar using != is inefficient, try using == instead.\n",
      "  test_pos_pairs = np.column_stack((movielens_matrix!=1).nonzero())\n"
     ]
    },
    {
     "name": "stdout",
     "output_type": "stream",
     "text": [
      "8 0.03 0.3 0.021956521739130434 0.07295289855072463\n"
     ]
    },
    {
     "name": "stderr",
     "output_type": "stream",
     "text": [
      "C:\\Users\\tmina\\Google ドライブ\\github\\RecommenderSystems\\chapter5\\notebook\\..\\src\\ials.py:235: SparseEfficiencyWarning: Comparing a sparse matrix with a nonzero scalar using != is inefficient, try using == instead.\n",
      "  test_pos_pairs = np.column_stack((movielens_matrix!=1).nonzero())\n"
     ]
    },
    {
     "name": "stdout",
     "output_type": "stream",
     "text": [
      "8 0.03 0.1 0.020434782608695648 0.06469202898550724\n"
     ]
    },
    {
     "name": "stderr",
     "output_type": "stream",
     "text": [
      "C:\\Users\\tmina\\Google ドライブ\\github\\RecommenderSystems\\chapter5\\notebook\\..\\src\\ials.py:235: SparseEfficiencyWarning: Comparing a sparse matrix with a nonzero scalar using != is inefficient, try using == instead.\n",
      "  test_pos_pairs = np.column_stack((movielens_matrix!=1).nonzero())\n"
     ]
    },
    {
     "name": "stdout",
     "output_type": "stream",
     "text": [
      "8 0.03 0.03 0.01978260869565218 0.06231884057971014\n"
     ]
    },
    {
     "name": "stderr",
     "output_type": "stream",
     "text": [
      "C:\\Users\\tmina\\Google ドライブ\\github\\RecommenderSystems\\chapter5\\notebook\\..\\src\\ials.py:235: SparseEfficiencyWarning: Comparing a sparse matrix with a nonzero scalar using != is inefficient, try using == instead.\n",
      "  test_pos_pairs = np.column_stack((movielens_matrix!=1).nonzero())\n"
     ]
    },
    {
     "name": "stdout",
     "output_type": "stream",
     "text": [
      "8 0.03 0.01 0.017934782608695653 0.05677536231884058\n"
     ]
    },
    {
     "name": "stderr",
     "output_type": "stream",
     "text": [
      "C:\\Users\\tmina\\Google ドライブ\\github\\RecommenderSystems\\chapter5\\notebook\\..\\src\\ials.py:235: SparseEfficiencyWarning: Comparing a sparse matrix with a nonzero scalar using != is inefficient, try using == instead.\n",
      "  test_pos_pairs = np.column_stack((movielens_matrix!=1).nonzero())\n"
     ]
    },
    {
     "name": "stdout",
     "output_type": "stream",
     "text": [
      "8 0.03 0.003 0.013478260869565217 0.04275362318840579\n"
     ]
    },
    {
     "name": "stderr",
     "output_type": "stream",
     "text": [
      "C:\\Users\\tmina\\Google ドライブ\\github\\RecommenderSystems\\chapter5\\notebook\\..\\src\\ials.py:235: SparseEfficiencyWarning: Comparing a sparse matrix with a nonzero scalar using != is inefficient, try using == instead.\n",
      "  test_pos_pairs = np.column_stack((movielens_matrix!=1).nonzero())\n"
     ]
    },
    {
     "name": "stdout",
     "output_type": "stream",
     "text": [
      "8 0.01 1 0.020869565217391306 0.06717391304347826\n"
     ]
    },
    {
     "name": "stderr",
     "output_type": "stream",
     "text": [
      "C:\\Users\\tmina\\Google ドライブ\\github\\RecommenderSystems\\chapter5\\notebook\\..\\src\\ials.py:235: SparseEfficiencyWarning: Comparing a sparse matrix with a nonzero scalar using != is inefficient, try using == instead.\n",
      "  test_pos_pairs = np.column_stack((movielens_matrix!=1).nonzero())\n"
     ]
    },
    {
     "name": "stdout",
     "output_type": "stream",
     "text": [
      "8 0.01 0.3 0.022608695652173914 0.06972826086956523\n"
     ]
    },
    {
     "name": "stderr",
     "output_type": "stream",
     "text": [
      "C:\\Users\\tmina\\Google ドライブ\\github\\RecommenderSystems\\chapter5\\notebook\\..\\src\\ials.py:235: SparseEfficiencyWarning: Comparing a sparse matrix with a nonzero scalar using != is inefficient, try using == instead.\n",
      "  test_pos_pairs = np.column_stack((movielens_matrix!=1).nonzero())\n"
     ]
    },
    {
     "name": "stdout",
     "output_type": "stream",
     "text": [
      "8 0.01 0.1 0.021304347826086957 0.0647463768115942\n"
     ]
    },
    {
     "name": "stderr",
     "output_type": "stream",
     "text": [
      "C:\\Users\\tmina\\Google ドライブ\\github\\RecommenderSystems\\chapter5\\notebook\\..\\src\\ials.py:235: SparseEfficiencyWarning: Comparing a sparse matrix with a nonzero scalar using != is inefficient, try using == instead.\n",
      "  test_pos_pairs = np.column_stack((movielens_matrix!=1).nonzero())\n"
     ]
    },
    {
     "name": "stdout",
     "output_type": "stream",
     "text": [
      "8 0.01 0.03 0.01956521739130435 0.06070652173913043\n"
     ]
    },
    {
     "name": "stderr",
     "output_type": "stream",
     "text": [
      "C:\\Users\\tmina\\Google ドライブ\\github\\RecommenderSystems\\chapter5\\notebook\\..\\src\\ials.py:235: SparseEfficiencyWarning: Comparing a sparse matrix with a nonzero scalar using != is inefficient, try using == instead.\n",
      "  test_pos_pairs = np.column_stack((movielens_matrix!=1).nonzero())\n"
     ]
    },
    {
     "name": "stdout",
     "output_type": "stream",
     "text": [
      "8 0.01 0.01 0.017173913043478258 0.05494565217391304\n"
     ]
    },
    {
     "name": "stderr",
     "output_type": "stream",
     "text": [
      "C:\\Users\\tmina\\Google ドライブ\\github\\RecommenderSystems\\chapter5\\notebook\\..\\src\\ials.py:235: SparseEfficiencyWarning: Comparing a sparse matrix with a nonzero scalar using != is inefficient, try using == instead.\n",
      "  test_pos_pairs = np.column_stack((movielens_matrix!=1).nonzero())\n"
     ]
    },
    {
     "name": "stdout",
     "output_type": "stream",
     "text": [
      "8 0.01 0.003 0.013804347826086956 0.04550724637681159\n"
     ]
    },
    {
     "name": "stderr",
     "output_type": "stream",
     "text": [
      "C:\\Users\\tmina\\Google ドライブ\\github\\RecommenderSystems\\chapter5\\notebook\\..\\src\\ials.py:235: SparseEfficiencyWarning: Comparing a sparse matrix with a nonzero scalar using != is inefficient, try using == instead.\n",
      "  test_pos_pairs = np.column_stack((movielens_matrix!=1).nonzero())\n"
     ]
    },
    {
     "name": "stdout",
     "output_type": "stream",
     "text": [
      "8 0.003 1 0.025326086956521734 0.07788043478260868\n"
     ]
    },
    {
     "name": "stderr",
     "output_type": "stream",
     "text": [
      "C:\\Users\\tmina\\Google ドライブ\\github\\RecommenderSystems\\chapter5\\notebook\\..\\src\\ials.py:235: SparseEfficiencyWarning: Comparing a sparse matrix with a nonzero scalar using != is inefficient, try using == instead.\n",
      "  test_pos_pairs = np.column_stack((movielens_matrix!=1).nonzero())\n"
     ]
    },
    {
     "name": "stdout",
     "output_type": "stream",
     "text": [
      "8 0.003 0.3 0.023043478260869568 0.07168478260869564\n"
     ]
    },
    {
     "name": "stderr",
     "output_type": "stream",
     "text": [
      "C:\\Users\\tmina\\Google ドライブ\\github\\RecommenderSystems\\chapter5\\notebook\\..\\src\\ials.py:235: SparseEfficiencyWarning: Comparing a sparse matrix with a nonzero scalar using != is inefficient, try using == instead.\n",
      "  test_pos_pairs = np.column_stack((movielens_matrix!=1).nonzero())\n"
     ]
    },
    {
     "name": "stdout",
     "output_type": "stream",
     "text": [
      "8 0.003 0.1 0.02141304347826087 0.06516304347826088\n"
     ]
    },
    {
     "name": "stderr",
     "output_type": "stream",
     "text": [
      "C:\\Users\\tmina\\Google ドライブ\\github\\RecommenderSystems\\chapter5\\notebook\\..\\src\\ials.py:235: SparseEfficiencyWarning: Comparing a sparse matrix with a nonzero scalar using != is inefficient, try using == instead.\n",
      "  test_pos_pairs = np.column_stack((movielens_matrix!=1).nonzero())\n"
     ]
    },
    {
     "name": "stdout",
     "output_type": "stream",
     "text": [
      "8 0.003 0.03 0.020326086956521744 0.06369565217391304\n"
     ]
    },
    {
     "name": "stderr",
     "output_type": "stream",
     "text": [
      "C:\\Users\\tmina\\Google ドライブ\\github\\RecommenderSystems\\chapter5\\notebook\\..\\src\\ials.py:235: SparseEfficiencyWarning: Comparing a sparse matrix with a nonzero scalar using != is inefficient, try using == instead.\n",
      "  test_pos_pairs = np.column_stack((movielens_matrix!=1).nonzero())\n"
     ]
    },
    {
     "name": "stdout",
     "output_type": "stream",
     "text": [
      "8 0.003 0.01 0.015217391304347827 0.05\n"
     ]
    },
    {
     "name": "stderr",
     "output_type": "stream",
     "text": [
      "C:\\Users\\tmina\\Google ドライブ\\github\\RecommenderSystems\\chapter5\\notebook\\..\\src\\ials.py:235: SparseEfficiencyWarning: Comparing a sparse matrix with a nonzero scalar using != is inefficient, try using == instead.\n",
      "  test_pos_pairs = np.column_stack((movielens_matrix!=1).nonzero())\n"
     ]
    },
    {
     "name": "stdout",
     "output_type": "stream",
     "text": [
      "8 0.003 0.003 0.012065217391304348 0.041829710144927534\n"
     ]
    },
    {
     "name": "stderr",
     "output_type": "stream",
     "text": [
      "C:\\Users\\tmina\\Google ドライブ\\github\\RecommenderSystems\\chapter5\\notebook\\..\\src\\ials.py:235: SparseEfficiencyWarning: Comparing a sparse matrix with a nonzero scalar using != is inefficient, try using == instead.\n",
      "  test_pos_pairs = np.column_stack((movielens_matrix!=1).nonzero())\n"
     ]
    },
    {
     "name": "stdout",
     "output_type": "stream",
     "text": [
      "8 0.001 1 0.02380434782608696 0.07173913043478261\n"
     ]
    },
    {
     "name": "stderr",
     "output_type": "stream",
     "text": [
      "C:\\Users\\tmina\\Google ドライブ\\github\\RecommenderSystems\\chapter5\\notebook\\..\\src\\ials.py:235: SparseEfficiencyWarning: Comparing a sparse matrix with a nonzero scalar using != is inefficient, try using == instead.\n",
      "  test_pos_pairs = np.column_stack((movielens_matrix!=1).nonzero())\n"
     ]
    },
    {
     "name": "stdout",
     "output_type": "stream",
     "text": [
      "8 0.001 0.3 0.02347826086956522 0.07371376811594202\n"
     ]
    },
    {
     "name": "stderr",
     "output_type": "stream",
     "text": [
      "C:\\Users\\tmina\\Google ドライブ\\github\\RecommenderSystems\\chapter5\\notebook\\..\\src\\ials.py:235: SparseEfficiencyWarning: Comparing a sparse matrix with a nonzero scalar using != is inefficient, try using == instead.\n",
      "  test_pos_pairs = np.column_stack((movielens_matrix!=1).nonzero())\n"
     ]
    },
    {
     "name": "stdout",
     "output_type": "stream",
     "text": [
      "8 0.001 0.1 0.021739130434782608 0.06721014492753623\n"
     ]
    },
    {
     "name": "stderr",
     "output_type": "stream",
     "text": [
      "C:\\Users\\tmina\\Google ドライブ\\github\\RecommenderSystems\\chapter5\\notebook\\..\\src\\ials.py:235: SparseEfficiencyWarning: Comparing a sparse matrix with a nonzero scalar using != is inefficient, try using == instead.\n",
      "  test_pos_pairs = np.column_stack((movielens_matrix!=1).nonzero())\n"
     ]
    },
    {
     "name": "stdout",
     "output_type": "stream",
     "text": [
      "8 0.001 0.03 0.01847826086956522 0.05715579710144927\n"
     ]
    },
    {
     "name": "stderr",
     "output_type": "stream",
     "text": [
      "C:\\Users\\tmina\\Google ドライブ\\github\\RecommenderSystems\\chapter5\\notebook\\..\\src\\ials.py:235: SparseEfficiencyWarning: Comparing a sparse matrix with a nonzero scalar using != is inefficient, try using == instead.\n",
      "  test_pos_pairs = np.column_stack((movielens_matrix!=1).nonzero())\n"
     ]
    },
    {
     "name": "stdout",
     "output_type": "stream",
     "text": [
      "8 0.001 0.01 0.015000000000000001 0.04617753623188406\n"
     ]
    },
    {
     "name": "stderr",
     "output_type": "stream",
     "text": [
      "C:\\Users\\tmina\\Google ドライブ\\github\\RecommenderSystems\\chapter5\\notebook\\..\\src\\ials.py:235: SparseEfficiencyWarning: Comparing a sparse matrix with a nonzero scalar using != is inefficient, try using == instead.\n",
      "  test_pos_pairs = np.column_stack((movielens_matrix!=1).nonzero())\n"
     ]
    },
    {
     "name": "stdout",
     "output_type": "stream",
     "text": [
      "8 0.001 0.003 0.011304347826086957 0.03623188405797101\n"
     ]
    },
    {
     "name": "stderr",
     "output_type": "stream",
     "text": [
      "C:\\Users\\tmina\\Google ドライブ\\github\\RecommenderSystems\\chapter5\\notebook\\..\\src\\ials.py:235: SparseEfficiencyWarning: Comparing a sparse matrix with a nonzero scalar using != is inefficient, try using == instead.\n",
      "  test_pos_pairs = np.column_stack((movielens_matrix!=1).nonzero())\n"
     ]
    },
    {
     "name": "stdout",
     "output_type": "stream",
     "text": [
      "8 0.0003 1 0.025 0.07753623188405796\n"
     ]
    },
    {
     "name": "stderr",
     "output_type": "stream",
     "text": [
      "C:\\Users\\tmina\\Google ドライブ\\github\\RecommenderSystems\\chapter5\\notebook\\..\\src\\ials.py:235: SparseEfficiencyWarning: Comparing a sparse matrix with a nonzero scalar using != is inefficient, try using == instead.\n",
      "  test_pos_pairs = np.column_stack((movielens_matrix!=1).nonzero())\n"
     ]
    },
    {
     "name": "stdout",
     "output_type": "stream",
     "text": [
      "8 0.0003 0.3 0.02434782608695652 0.07621376811594202\n"
     ]
    },
    {
     "name": "stderr",
     "output_type": "stream",
     "text": [
      "C:\\Users\\tmina\\Google ドライブ\\github\\RecommenderSystems\\chapter5\\notebook\\..\\src\\ials.py:235: SparseEfficiencyWarning: Comparing a sparse matrix with a nonzero scalar using != is inefficient, try using == instead.\n",
      "  test_pos_pairs = np.column_stack((movielens_matrix!=1).nonzero())\n"
     ]
    },
    {
     "name": "stdout",
     "output_type": "stream",
     "text": [
      "8 0.0003 0.1 0.02282608695652174 0.0722282608695652\n"
     ]
    },
    {
     "name": "stderr",
     "output_type": "stream",
     "text": [
      "C:\\Users\\tmina\\Google ドライブ\\github\\RecommenderSystems\\chapter5\\notebook\\..\\src\\ials.py:235: SparseEfficiencyWarning: Comparing a sparse matrix with a nonzero scalar using != is inefficient, try using == instead.\n",
      "  test_pos_pairs = np.column_stack((movielens_matrix!=1).nonzero())\n"
     ]
    },
    {
     "name": "stdout",
     "output_type": "stream",
     "text": [
      "8 0.0003 0.03 0.01847826086956522 0.05679347826086956\n"
     ]
    },
    {
     "name": "stderr",
     "output_type": "stream",
     "text": [
      "C:\\Users\\tmina\\Google ドライブ\\github\\RecommenderSystems\\chapter5\\notebook\\..\\src\\ials.py:235: SparseEfficiencyWarning: Comparing a sparse matrix with a nonzero scalar using != is inefficient, try using == instead.\n",
      "  test_pos_pairs = np.column_stack((movielens_matrix!=1).nonzero())\n"
     ]
    },
    {
     "name": "stdout",
     "output_type": "stream",
     "text": [
      "8 0.0003 0.01 0.015760869565217394 0.049927536231884055\n"
     ]
    },
    {
     "name": "stderr",
     "output_type": "stream",
     "text": [
      "C:\\Users\\tmina\\Google ドライブ\\github\\RecommenderSystems\\chapter5\\notebook\\..\\src\\ials.py:235: SparseEfficiencyWarning: Comparing a sparse matrix with a nonzero scalar using != is inefficient, try using == instead.\n",
      "  test_pos_pairs = np.column_stack((movielens_matrix!=1).nonzero())\n"
     ]
    },
    {
     "name": "stdout",
     "output_type": "stream",
     "text": [
      "8 0.0003 0.003 0.010978260869565219 0.03891304347826087\n"
     ]
    },
    {
     "name": "stderr",
     "output_type": "stream",
     "text": [
      "C:\\Users\\tmina\\Google ドライブ\\github\\RecommenderSystems\\chapter5\\notebook\\..\\src\\ials.py:235: SparseEfficiencyWarning: Comparing a sparse matrix with a nonzero scalar using != is inefficient, try using == instead.\n",
      "  test_pos_pairs = np.column_stack((movielens_matrix!=1).nonzero())\n"
     ]
    },
    {
     "name": "stdout",
     "output_type": "stream",
     "text": [
      "16 0.1 1 0.015434782608695654 0.0491304347826087\n"
     ]
    },
    {
     "name": "stderr",
     "output_type": "stream",
     "text": [
      "C:\\Users\\tmina\\Google ドライブ\\github\\RecommenderSystems\\chapter5\\notebook\\..\\src\\ials.py:235: SparseEfficiencyWarning: Comparing a sparse matrix with a nonzero scalar using != is inefficient, try using == instead.\n",
      "  test_pos_pairs = np.column_stack((movielens_matrix!=1).nonzero())\n"
     ]
    },
    {
     "name": "stdout",
     "output_type": "stream",
     "text": [
      "16 0.1 0.3 0.01532608695652174 0.04889492753623188\n"
     ]
    },
    {
     "name": "stderr",
     "output_type": "stream",
     "text": [
      "C:\\Users\\tmina\\Google ドライブ\\github\\RecommenderSystems\\chapter5\\notebook\\..\\src\\ials.py:235: SparseEfficiencyWarning: Comparing a sparse matrix with a nonzero scalar using != is inefficient, try using == instead.\n",
      "  test_pos_pairs = np.column_stack((movielens_matrix!=1).nonzero())\n"
     ]
    },
    {
     "name": "stdout",
     "output_type": "stream",
     "text": [
      "16 0.1 0.1 0.01608695652173913 0.05014492753623188\n"
     ]
    },
    {
     "name": "stderr",
     "output_type": "stream",
     "text": [
      "C:\\Users\\tmina\\Google ドライブ\\github\\RecommenderSystems\\chapter5\\notebook\\..\\src\\ials.py:235: SparseEfficiencyWarning: Comparing a sparse matrix with a nonzero scalar using != is inefficient, try using == instead.\n",
      "  test_pos_pairs = np.column_stack((movielens_matrix!=1).nonzero())\n"
     ]
    },
    {
     "name": "stdout",
     "output_type": "stream",
     "text": [
      "16 0.1 0.03 0.019891304347826082 0.06351449275362318\n"
     ]
    },
    {
     "name": "stderr",
     "output_type": "stream",
     "text": [
      "C:\\Users\\tmina\\Google ドライブ\\github\\RecommenderSystems\\chapter5\\notebook\\..\\src\\ials.py:235: SparseEfficiencyWarning: Comparing a sparse matrix with a nonzero scalar using != is inefficient, try using == instead.\n",
      "  test_pos_pairs = np.column_stack((movielens_matrix!=1).nonzero())\n"
     ]
    },
    {
     "name": "stdout",
     "output_type": "stream",
     "text": [
      "16 0.1 0.01 0.017608695652173916 0.05481884057971015\n"
     ]
    },
    {
     "name": "stderr",
     "output_type": "stream",
     "text": [
      "C:\\Users\\tmina\\Google ドライブ\\github\\RecommenderSystems\\chapter5\\notebook\\..\\src\\ials.py:235: SparseEfficiencyWarning: Comparing a sparse matrix with a nonzero scalar using != is inefficient, try using == instead.\n",
      "  test_pos_pairs = np.column_stack((movielens_matrix!=1).nonzero())\n"
     ]
    },
    {
     "name": "stdout",
     "output_type": "stream",
     "text": [
      "16 0.1 0.003 0.014130434782608696 0.043641304347826086\n"
     ]
    },
    {
     "name": "stderr",
     "output_type": "stream",
     "text": [
      "C:\\Users\\tmina\\Google ドライブ\\github\\RecommenderSystems\\chapter5\\notebook\\..\\src\\ials.py:235: SparseEfficiencyWarning: Comparing a sparse matrix with a nonzero scalar using != is inefficient, try using == instead.\n",
      "  test_pos_pairs = np.column_stack((movielens_matrix!=1).nonzero())\n"
     ]
    },
    {
     "name": "stdout",
     "output_type": "stream",
     "text": [
      "16 0.03 1 0.015326086956521741 0.04891304347826087\n"
     ]
    },
    {
     "name": "stderr",
     "output_type": "stream",
     "text": [
      "C:\\Users\\tmina\\Google ドライブ\\github\\RecommenderSystems\\chapter5\\notebook\\..\\src\\ials.py:235: SparseEfficiencyWarning: Comparing a sparse matrix with a nonzero scalar using != is inefficient, try using == instead.\n",
      "  test_pos_pairs = np.column_stack((movielens_matrix!=1).nonzero())\n"
     ]
    },
    {
     "name": "stdout",
     "output_type": "stream",
     "text": [
      "16 0.03 0.3 0.021847826086956523 0.07255434782608695\n"
     ]
    },
    {
     "name": "stderr",
     "output_type": "stream",
     "text": [
      "C:\\Users\\tmina\\Google ドライブ\\github\\RecommenderSystems\\chapter5\\notebook\\..\\src\\ials.py:235: SparseEfficiencyWarning: Comparing a sparse matrix with a nonzero scalar using != is inefficient, try using == instead.\n",
      "  test_pos_pairs = np.column_stack((movielens_matrix!=1).nonzero())\n"
     ]
    },
    {
     "name": "stdout",
     "output_type": "stream",
     "text": [
      "16 0.03 0.1 0.022934782608695654 0.07096014492753623\n"
     ]
    },
    {
     "name": "stderr",
     "output_type": "stream",
     "text": [
      "C:\\Users\\tmina\\Google ドライブ\\github\\RecommenderSystems\\chapter5\\notebook\\..\\src\\ials.py:235: SparseEfficiencyWarning: Comparing a sparse matrix with a nonzero scalar using != is inefficient, try using == instead.\n",
      "  test_pos_pairs = np.column_stack((movielens_matrix!=1).nonzero())\n"
     ]
    },
    {
     "name": "stdout",
     "output_type": "stream",
     "text": [
      "16 0.03 0.03 0.020652173913043477 0.06389492753623188\n"
     ]
    },
    {
     "name": "stderr",
     "output_type": "stream",
     "text": [
      "C:\\Users\\tmina\\Google ドライブ\\github\\RecommenderSystems\\chapter5\\notebook\\..\\src\\ials.py:235: SparseEfficiencyWarning: Comparing a sparse matrix with a nonzero scalar using != is inefficient, try using == instead.\n",
      "  test_pos_pairs = np.column_stack((movielens_matrix!=1).nonzero())\n"
     ]
    },
    {
     "name": "stdout",
     "output_type": "stream",
     "text": [
      "16 0.03 0.01 0.0175 0.05494565217391304\n"
     ]
    },
    {
     "name": "stderr",
     "output_type": "stream",
     "text": [
      "C:\\Users\\tmina\\Google ドライブ\\github\\RecommenderSystems\\chapter5\\notebook\\..\\src\\ials.py:235: SparseEfficiencyWarning: Comparing a sparse matrix with a nonzero scalar using != is inefficient, try using == instead.\n",
      "  test_pos_pairs = np.column_stack((movielens_matrix!=1).nonzero())\n"
     ]
    },
    {
     "name": "stdout",
     "output_type": "stream",
     "text": [
      "16 0.03 0.003 0.016195652173913045 0.051630434782608696\n"
     ]
    },
    {
     "name": "stderr",
     "output_type": "stream",
     "text": [
      "C:\\Users\\tmina\\Google ドライブ\\github\\RecommenderSystems\\chapter5\\notebook\\..\\src\\ials.py:235: SparseEfficiencyWarning: Comparing a sparse matrix with a nonzero scalar using != is inefficient, try using == instead.\n",
      "  test_pos_pairs = np.column_stack((movielens_matrix!=1).nonzero())\n"
     ]
    },
    {
     "name": "stdout",
     "output_type": "stream",
     "text": [
      "16 0.01 1 0.020869565217391306 0.06717391304347826\n"
     ]
    },
    {
     "name": "stderr",
     "output_type": "stream",
     "text": [
      "C:\\Users\\tmina\\Google ドライブ\\github\\RecommenderSystems\\chapter5\\notebook\\..\\src\\ials.py:235: SparseEfficiencyWarning: Comparing a sparse matrix with a nonzero scalar using != is inefficient, try using == instead.\n",
      "  test_pos_pairs = np.column_stack((movielens_matrix!=1).nonzero())\n"
     ]
    },
    {
     "name": "stdout",
     "output_type": "stream",
     "text": [
      "16 0.01 0.3 0.0241304347826087 0.07539855072463769\n"
     ]
    },
    {
     "name": "stderr",
     "output_type": "stream",
     "text": [
      "C:\\Users\\tmina\\Google ドライブ\\github\\RecommenderSystems\\chapter5\\notebook\\..\\src\\ials.py:235: SparseEfficiencyWarning: Comparing a sparse matrix with a nonzero scalar using != is inefficient, try using == instead.\n",
      "  test_pos_pairs = np.column_stack((movielens_matrix!=1).nonzero())\n"
     ]
    },
    {
     "name": "stdout",
     "output_type": "stream",
     "text": [
      "16 0.01 0.1 0.022391304347826088 0.06862318840579709\n"
     ]
    },
    {
     "name": "stderr",
     "output_type": "stream",
     "text": [
      "C:\\Users\\tmina\\Google ドライブ\\github\\RecommenderSystems\\chapter5\\notebook\\..\\src\\ials.py:235: SparseEfficiencyWarning: Comparing a sparse matrix with a nonzero scalar using != is inefficient, try using == instead.\n",
      "  test_pos_pairs = np.column_stack((movielens_matrix!=1).nonzero())\n"
     ]
    },
    {
     "name": "stdout",
     "output_type": "stream",
     "text": [
      "16 0.01 0.03 0.020326086956521737 0.06166666666666667\n"
     ]
    },
    {
     "name": "stderr",
     "output_type": "stream",
     "text": [
      "C:\\Users\\tmina\\Google ドライブ\\github\\RecommenderSystems\\chapter5\\notebook\\..\\src\\ials.py:235: SparseEfficiencyWarning: Comparing a sparse matrix with a nonzero scalar using != is inefficient, try using == instead.\n",
      "  test_pos_pairs = np.column_stack((movielens_matrix!=1).nonzero())\n"
     ]
    },
    {
     "name": "stdout",
     "output_type": "stream",
     "text": [
      "16 0.01 0.01 0.017065217391304347 0.052409420289855076\n"
     ]
    },
    {
     "name": "stderr",
     "output_type": "stream",
     "text": [
      "C:\\Users\\tmina\\Google ドライブ\\github\\RecommenderSystems\\chapter5\\notebook\\..\\src\\ials.py:235: SparseEfficiencyWarning: Comparing a sparse matrix with a nonzero scalar using != is inefficient, try using == instead.\n",
      "  test_pos_pairs = np.column_stack((movielens_matrix!=1).nonzero())\n"
     ]
    },
    {
     "name": "stdout",
     "output_type": "stream",
     "text": [
      "16 0.01 0.003 0.014782608695652176 0.04695652173913043\n"
     ]
    },
    {
     "name": "stderr",
     "output_type": "stream",
     "text": [
      "C:\\Users\\tmina\\Google ドライブ\\github\\RecommenderSystems\\chapter5\\notebook\\..\\src\\ials.py:235: SparseEfficiencyWarning: Comparing a sparse matrix with a nonzero scalar using != is inefficient, try using == instead.\n",
      "  test_pos_pairs = np.column_stack((movielens_matrix!=1).nonzero())\n"
     ]
    },
    {
     "name": "stdout",
     "output_type": "stream",
     "text": [
      "16 0.003 1 0.02521739130434783 0.07873188405797102\n"
     ]
    },
    {
     "name": "stderr",
     "output_type": "stream",
     "text": [
      "C:\\Users\\tmina\\Google ドライブ\\github\\RecommenderSystems\\chapter5\\notebook\\..\\src\\ials.py:235: SparseEfficiencyWarning: Comparing a sparse matrix with a nonzero scalar using != is inefficient, try using == instead.\n",
      "  test_pos_pairs = np.column_stack((movielens_matrix!=1).nonzero())\n"
     ]
    },
    {
     "name": "stdout",
     "output_type": "stream",
     "text": [
      "16 0.003 0.3 0.024347826086956525 0.07632246376811594\n"
     ]
    },
    {
     "name": "stderr",
     "output_type": "stream",
     "text": [
      "C:\\Users\\tmina\\Google ドライブ\\github\\RecommenderSystems\\chapter5\\notebook\\..\\src\\ials.py:235: SparseEfficiencyWarning: Comparing a sparse matrix with a nonzero scalar using != is inefficient, try using == instead.\n",
      "  test_pos_pairs = np.column_stack((movielens_matrix!=1).nonzero())\n"
     ]
    },
    {
     "name": "stdout",
     "output_type": "stream",
     "text": [
      "16 0.003 0.1 0.022391304347826088 0.06925724637681159\n"
     ]
    },
    {
     "name": "stderr",
     "output_type": "stream",
     "text": [
      "C:\\Users\\tmina\\Google ドライブ\\github\\RecommenderSystems\\chapter5\\notebook\\..\\src\\ials.py:235: SparseEfficiencyWarning: Comparing a sparse matrix with a nonzero scalar using != is inefficient, try using == instead.\n",
      "  test_pos_pairs = np.column_stack((movielens_matrix!=1).nonzero())\n"
     ]
    },
    {
     "name": "stdout",
     "output_type": "stream",
     "text": [
      "16 0.003 0.03 0.021195652173913043 0.0668659420289855\n"
     ]
    },
    {
     "name": "stderr",
     "output_type": "stream",
     "text": [
      "C:\\Users\\tmina\\Google ドライブ\\github\\RecommenderSystems\\chapter5\\notebook\\..\\src\\ials.py:235: SparseEfficiencyWarning: Comparing a sparse matrix with a nonzero scalar using != is inefficient, try using == instead.\n",
      "  test_pos_pairs = np.column_stack((movielens_matrix!=1).nonzero())\n"
     ]
    },
    {
     "name": "stdout",
     "output_type": "stream",
     "text": [
      "16 0.003 0.01 0.01641304347826087 0.052971014492753626\n"
     ]
    },
    {
     "name": "stderr",
     "output_type": "stream",
     "text": [
      "C:\\Users\\tmina\\Google ドライブ\\github\\RecommenderSystems\\chapter5\\notebook\\..\\src\\ials.py:235: SparseEfficiencyWarning: Comparing a sparse matrix with a nonzero scalar using != is inefficient, try using == instead.\n",
      "  test_pos_pairs = np.column_stack((movielens_matrix!=1).nonzero())\n"
     ]
    },
    {
     "name": "stdout",
     "output_type": "stream",
     "text": [
      "16 0.003 0.003 0.01282608695652174 0.04173913043478261\n"
     ]
    },
    {
     "name": "stderr",
     "output_type": "stream",
     "text": [
      "C:\\Users\\tmina\\Google ドライブ\\github\\RecommenderSystems\\chapter5\\notebook\\..\\src\\ials.py:235: SparseEfficiencyWarning: Comparing a sparse matrix with a nonzero scalar using != is inefficient, try using == instead.\n",
      "  test_pos_pairs = np.column_stack((movielens_matrix!=1).nonzero())\n"
     ]
    },
    {
     "name": "stdout",
     "output_type": "stream",
     "text": [
      "16 0.001 1 0.02456521739130435 0.07643115942028986\n"
     ]
    },
    {
     "name": "stderr",
     "output_type": "stream",
     "text": [
      "C:\\Users\\tmina\\Google ドライブ\\github\\RecommenderSystems\\chapter5\\notebook\\..\\src\\ials.py:235: SparseEfficiencyWarning: Comparing a sparse matrix with a nonzero scalar using != is inefficient, try using == instead.\n",
      "  test_pos_pairs = np.column_stack((movielens_matrix!=1).nonzero())\n"
     ]
    },
    {
     "name": "stdout",
     "output_type": "stream",
     "text": [
      "16 0.001 0.3 0.02423913043478261 0.0760144927536232\n"
     ]
    },
    {
     "name": "stderr",
     "output_type": "stream",
     "text": [
      "C:\\Users\\tmina\\Google ドライブ\\github\\RecommenderSystems\\chapter5\\notebook\\..\\src\\ials.py:235: SparseEfficiencyWarning: Comparing a sparse matrix with a nonzero scalar using != is inefficient, try using == instead.\n",
      "  test_pos_pairs = np.column_stack((movielens_matrix!=1).nonzero())\n"
     ]
    },
    {
     "name": "stdout",
     "output_type": "stream",
     "text": [
      "16 0.001 0.1 0.02282608695652174 0.07068840579710145\n"
     ]
    },
    {
     "name": "stderr",
     "output_type": "stream",
     "text": [
      "C:\\Users\\tmina\\Google ドライブ\\github\\RecommenderSystems\\chapter5\\notebook\\..\\src\\ials.py:235: SparseEfficiencyWarning: Comparing a sparse matrix with a nonzero scalar using != is inefficient, try using == instead.\n",
      "  test_pos_pairs = np.column_stack((movielens_matrix!=1).nonzero())\n"
     ]
    },
    {
     "name": "stdout",
     "output_type": "stream",
     "text": [
      "16 0.001 0.03 0.01880434782608696 0.059130434782608696\n"
     ]
    },
    {
     "name": "stderr",
     "output_type": "stream",
     "text": [
      "C:\\Users\\tmina\\Google ドライブ\\github\\RecommenderSystems\\chapter5\\notebook\\..\\src\\ials.py:235: SparseEfficiencyWarning: Comparing a sparse matrix with a nonzero scalar using != is inefficient, try using == instead.\n",
      "  test_pos_pairs = np.column_stack((movielens_matrix!=1).nonzero())\n"
     ]
    },
    {
     "name": "stdout",
     "output_type": "stream",
     "text": [
      "16 0.001 0.01 0.016847826086956525 0.05465579710144927\n"
     ]
    },
    {
     "name": "stderr",
     "output_type": "stream",
     "text": [
      "C:\\Users\\tmina\\Google ドライブ\\github\\RecommenderSystems\\chapter5\\notebook\\..\\src\\ials.py:235: SparseEfficiencyWarning: Comparing a sparse matrix with a nonzero scalar using != is inefficient, try using == instead.\n",
      "  test_pos_pairs = np.column_stack((movielens_matrix!=1).nonzero())\n"
     ]
    },
    {
     "name": "stdout",
     "output_type": "stream",
     "text": [
      "16 0.001 0.003 0.011956521739130435 0.04014492753623188\n"
     ]
    },
    {
     "name": "stderr",
     "output_type": "stream",
     "text": [
      "C:\\Users\\tmina\\Google ドライブ\\github\\RecommenderSystems\\chapter5\\notebook\\..\\src\\ials.py:235: SparseEfficiencyWarning: Comparing a sparse matrix with a nonzero scalar using != is inefficient, try using == instead.\n",
      "  test_pos_pairs = np.column_stack((movielens_matrix!=1).nonzero())\n"
     ]
    },
    {
     "name": "stdout",
     "output_type": "stream",
     "text": [
      "16 0.0003 1 0.024456521739130436 0.07603260869565216\n"
     ]
    },
    {
     "name": "stderr",
     "output_type": "stream",
     "text": [
      "C:\\Users\\tmina\\Google ドライブ\\github\\RecommenderSystems\\chapter5\\notebook\\..\\src\\ials.py:235: SparseEfficiencyWarning: Comparing a sparse matrix with a nonzero scalar using != is inefficient, try using == instead.\n",
      "  test_pos_pairs = np.column_stack((movielens_matrix!=1).nonzero())\n"
     ]
    },
    {
     "name": "stdout",
     "output_type": "stream",
     "text": [
      "16 0.0003 0.3 0.02391304347826087 0.0728804347826087\n"
     ]
    },
    {
     "name": "stderr",
     "output_type": "stream",
     "text": [
      "C:\\Users\\tmina\\Google ドライブ\\github\\RecommenderSystems\\chapter5\\notebook\\..\\src\\ials.py:235: SparseEfficiencyWarning: Comparing a sparse matrix with a nonzero scalar using != is inefficient, try using == instead.\n",
      "  test_pos_pairs = np.column_stack((movielens_matrix!=1).nonzero())\n"
     ]
    },
    {
     "name": "stdout",
     "output_type": "stream",
     "text": [
      "16 0.0003 0.1 0.02282608695652174 0.06914855072463769\n"
     ]
    },
    {
     "name": "stderr",
     "output_type": "stream",
     "text": [
      "C:\\Users\\tmina\\Google ドライブ\\github\\RecommenderSystems\\chapter5\\notebook\\..\\src\\ials.py:235: SparseEfficiencyWarning: Comparing a sparse matrix with a nonzero scalar using != is inefficient, try using == instead.\n",
      "  test_pos_pairs = np.column_stack((movielens_matrix!=1).nonzero())\n"
     ]
    },
    {
     "name": "stdout",
     "output_type": "stream",
     "text": [
      "16 0.0003 0.03 0.019673913043478264 0.060471014492753626\n"
     ]
    },
    {
     "name": "stderr",
     "output_type": "stream",
     "text": [
      "C:\\Users\\tmina\\Google ドライブ\\github\\RecommenderSystems\\chapter5\\notebook\\..\\src\\ials.py:235: SparseEfficiencyWarning: Comparing a sparse matrix with a nonzero scalar using != is inefficient, try using == instead.\n",
      "  test_pos_pairs = np.column_stack((movielens_matrix!=1).nonzero())\n"
     ]
    },
    {
     "name": "stdout",
     "output_type": "stream",
     "text": [
      "16 0.0003 0.01 0.016630434782608696 0.05394927536231883\n"
     ]
    },
    {
     "name": "stderr",
     "output_type": "stream",
     "text": [
      "C:\\Users\\tmina\\Google ドライブ\\github\\RecommenderSystems\\chapter5\\notebook\\..\\src\\ials.py:235: SparseEfficiencyWarning: Comparing a sparse matrix with a nonzero scalar using != is inefficient, try using == instead.\n",
      "  test_pos_pairs = np.column_stack((movielens_matrix!=1).nonzero())\n"
     ]
    },
    {
     "name": "stdout",
     "output_type": "stream",
     "text": [
      "16 0.0003 0.003 0.0125 0.041394927536231876\n"
     ]
    },
    {
     "name": "stderr",
     "output_type": "stream",
     "text": [
      "C:\\Users\\tmina\\Google ドライブ\\github\\RecommenderSystems\\chapter5\\notebook\\..\\src\\ials.py:235: SparseEfficiencyWarning: Comparing a sparse matrix with a nonzero scalar using != is inefficient, try using == instead.\n",
      "  test_pos_pairs = np.column_stack((movielens_matrix!=1).nonzero())\n"
     ]
    },
    {
     "name": "stdout",
     "output_type": "stream",
     "text": [
      "128 0.1 1 0.015434782608695654 0.0491304347826087\n"
     ]
    },
    {
     "name": "stderr",
     "output_type": "stream",
     "text": [
      "C:\\Users\\tmina\\Google ドライブ\\github\\RecommenderSystems\\chapter5\\notebook\\..\\src\\ials.py:235: SparseEfficiencyWarning: Comparing a sparse matrix with a nonzero scalar using != is inefficient, try using == instead.\n",
      "  test_pos_pairs = np.column_stack((movielens_matrix!=1).nonzero())\n"
     ]
    },
    {
     "name": "stdout",
     "output_type": "stream",
     "text": [
      "128 0.1 0.3 0.015543478260869567 0.04961956521739131\n"
     ]
    },
    {
     "name": "stderr",
     "output_type": "stream",
     "text": [
      "C:\\Users\\tmina\\Google ドライブ\\github\\RecommenderSystems\\chapter5\\notebook\\..\\src\\ials.py:235: SparseEfficiencyWarning: Comparing a sparse matrix with a nonzero scalar using != is inefficient, try using == instead.\n",
      "  test_pos_pairs = np.column_stack((movielens_matrix!=1).nonzero())\n"
     ]
    },
    {
     "name": "stdout",
     "output_type": "stream",
     "text": [
      "128 0.1 0.1 0.01608695652173913 0.05014492753623188\n"
     ]
    },
    {
     "name": "stderr",
     "output_type": "stream",
     "text": [
      "C:\\Users\\tmina\\Google ドライブ\\github\\RecommenderSystems\\chapter5\\notebook\\..\\src\\ials.py:235: SparseEfficiencyWarning: Comparing a sparse matrix with a nonzero scalar using != is inefficient, try using == instead.\n",
      "  test_pos_pairs = np.column_stack((movielens_matrix!=1).nonzero())\n"
     ]
    },
    {
     "name": "stdout",
     "output_type": "stream",
     "text": [
      "128 0.1 0.03 0.01978260869565217 0.0631159420289855\n"
     ]
    },
    {
     "name": "stderr",
     "output_type": "stream",
     "text": [
      "C:\\Users\\tmina\\Google ドライブ\\github\\RecommenderSystems\\chapter5\\notebook\\..\\src\\ials.py:235: SparseEfficiencyWarning: Comparing a sparse matrix with a nonzero scalar using != is inefficient, try using == instead.\n",
      "  test_pos_pairs = np.column_stack((movielens_matrix!=1).nonzero())\n"
     ]
    },
    {
     "name": "stdout",
     "output_type": "stream",
     "text": [
      "128 0.1 0.01 0.017282608695652176 0.05373188405797101\n"
     ]
    },
    {
     "name": "stderr",
     "output_type": "stream",
     "text": [
      "C:\\Users\\tmina\\Google ドライブ\\github\\RecommenderSystems\\chapter5\\notebook\\..\\src\\ials.py:235: SparseEfficiencyWarning: Comparing a sparse matrix with a nonzero scalar using != is inefficient, try using == instead.\n",
      "  test_pos_pairs = np.column_stack((movielens_matrix!=1).nonzero())\n"
     ]
    },
    {
     "name": "stdout",
     "output_type": "stream",
     "text": [
      "128 0.1 0.003 0.014239130434782608 0.04385869565217391\n"
     ]
    },
    {
     "name": "stderr",
     "output_type": "stream",
     "text": [
      "C:\\Users\\tmina\\Google ドライブ\\github\\RecommenderSystems\\chapter5\\notebook\\..\\src\\ials.py:235: SparseEfficiencyWarning: Comparing a sparse matrix with a nonzero scalar using != is inefficient, try using == instead.\n",
      "  test_pos_pairs = np.column_stack((movielens_matrix!=1).nonzero())\n"
     ]
    },
    {
     "name": "stdout",
     "output_type": "stream",
     "text": [
      "128 0.03 1 0.015326086956521741 0.04891304347826087\n"
     ]
    },
    {
     "name": "stderr",
     "output_type": "stream",
     "text": [
      "C:\\Users\\tmina\\Google ドライブ\\github\\RecommenderSystems\\chapter5\\notebook\\..\\src\\ials.py:235: SparseEfficiencyWarning: Comparing a sparse matrix with a nonzero scalar using != is inefficient, try using == instead.\n",
      "  test_pos_pairs = np.column_stack((movielens_matrix!=1).nonzero())\n"
     ]
    },
    {
     "name": "stdout",
     "output_type": "stream",
     "text": [
      "128 0.03 0.3 0.022065217391304348 0.07304347826086956\n"
     ]
    },
    {
     "name": "stderr",
     "output_type": "stream",
     "text": [
      "C:\\Users\\tmina\\Google ドライブ\\github\\RecommenderSystems\\chapter5\\notebook\\..\\src\\ials.py:235: SparseEfficiencyWarning: Comparing a sparse matrix with a nonzero scalar using != is inefficient, try using == instead.\n",
      "  test_pos_pairs = np.column_stack((movielens_matrix!=1).nonzero())\n"
     ]
    },
    {
     "name": "stdout",
     "output_type": "stream",
     "text": [
      "128 0.03 0.1 0.022608695652173914 0.07032608695652173\n"
     ]
    },
    {
     "name": "stderr",
     "output_type": "stream",
     "text": [
      "C:\\Users\\tmina\\Google ドライブ\\github\\RecommenderSystems\\chapter5\\notebook\\..\\src\\ials.py:235: SparseEfficiencyWarning: Comparing a sparse matrix with a nonzero scalar using != is inefficient, try using == instead.\n",
      "  test_pos_pairs = np.column_stack((movielens_matrix!=1).nonzero())\n"
     ]
    },
    {
     "name": "stdout",
     "output_type": "stream",
     "text": [
      "128 0.03 0.03 0.021630434782608697 0.06458333333333333\n"
     ]
    },
    {
     "name": "stderr",
     "output_type": "stream",
     "text": [
      "C:\\Users\\tmina\\Google ドライブ\\github\\RecommenderSystems\\chapter5\\notebook\\..\\src\\ials.py:235: SparseEfficiencyWarning: Comparing a sparse matrix with a nonzero scalar using != is inefficient, try using == instead.\n",
      "  test_pos_pairs = np.column_stack((movielens_matrix!=1).nonzero())\n"
     ]
    },
    {
     "name": "stdout",
     "output_type": "stream",
     "text": [
      "128 0.03 0.01 0.020217391304347826 0.06018115942028985\n"
     ]
    },
    {
     "name": "stderr",
     "output_type": "stream",
     "text": [
      "C:\\Users\\tmina\\Google ドライブ\\github\\RecommenderSystems\\chapter5\\notebook\\..\\src\\ials.py:235: SparseEfficiencyWarning: Comparing a sparse matrix with a nonzero scalar using != is inefficient, try using == instead.\n",
      "  test_pos_pairs = np.column_stack((movielens_matrix!=1).nonzero())\n"
     ]
    },
    {
     "name": "stdout",
     "output_type": "stream",
     "text": [
      "128 0.03 0.003 0.018369565217391304 0.05719202898550724\n"
     ]
    },
    {
     "name": "stderr",
     "output_type": "stream",
     "text": [
      "C:\\Users\\tmina\\Google ドライブ\\github\\RecommenderSystems\\chapter5\\notebook\\..\\src\\ials.py:235: SparseEfficiencyWarning: Comparing a sparse matrix with a nonzero scalar using != is inefficient, try using == instead.\n",
      "  test_pos_pairs = np.column_stack((movielens_matrix!=1).nonzero())\n"
     ]
    },
    {
     "name": "stdout",
     "output_type": "stream",
     "text": [
      "128 0.01 1 0.020869565217391306 0.06717391304347826\n"
     ]
    },
    {
     "name": "stderr",
     "output_type": "stream",
     "text": [
      "C:\\Users\\tmina\\Google ドライブ\\github\\RecommenderSystems\\chapter5\\notebook\\..\\src\\ials.py:235: SparseEfficiencyWarning: Comparing a sparse matrix with a nonzero scalar using != is inefficient, try using == instead.\n",
      "  test_pos_pairs = np.column_stack((movielens_matrix!=1).nonzero())\n"
     ]
    },
    {
     "name": "stdout",
     "output_type": "stream",
     "text": [
      "128 0.01 0.3 0.025869565217391303 0.07931159420289856\n"
     ]
    },
    {
     "name": "stderr",
     "output_type": "stream",
     "text": [
      "C:\\Users\\tmina\\Google ドライブ\\github\\RecommenderSystems\\chapter5\\notebook\\..\\src\\ials.py:235: SparseEfficiencyWarning: Comparing a sparse matrix with a nonzero scalar using != is inefficient, try using == instead.\n",
      "  test_pos_pairs = np.column_stack((movielens_matrix!=1).nonzero())\n"
     ]
    },
    {
     "name": "stdout",
     "output_type": "stream",
     "text": [
      "128 0.01 0.1 0.025543478260869567 0.07893115942028985\n"
     ]
    },
    {
     "name": "stderr",
     "output_type": "stream",
     "text": [
      "C:\\Users\\tmina\\Google ドライブ\\github\\RecommenderSystems\\chapter5\\notebook\\..\\src\\ials.py:235: SparseEfficiencyWarning: Comparing a sparse matrix with a nonzero scalar using != is inefficient, try using == instead.\n",
      "  test_pos_pairs = np.column_stack((movielens_matrix!=1).nonzero())\n"
     ]
    },
    {
     "name": "stdout",
     "output_type": "stream",
     "text": [
      "128 0.01 0.03 0.023369565217391305 0.07260869565217391\n"
     ]
    },
    {
     "name": "stderr",
     "output_type": "stream",
     "text": [
      "C:\\Users\\tmina\\Google ドライブ\\github\\RecommenderSystems\\chapter5\\notebook\\..\\src\\ials.py:235: SparseEfficiencyWarning: Comparing a sparse matrix with a nonzero scalar using != is inefficient, try using == instead.\n",
      "  test_pos_pairs = np.column_stack((movielens_matrix!=1).nonzero())\n"
     ]
    },
    {
     "name": "stdout",
     "output_type": "stream",
     "text": [
      "128 0.01 0.01 0.023369565217391305 0.07052536231884057\n"
     ]
    },
    {
     "name": "stderr",
     "output_type": "stream",
     "text": [
      "C:\\Users\\tmina\\Google ドライブ\\github\\RecommenderSystems\\chapter5\\notebook\\..\\src\\ials.py:235: SparseEfficiencyWarning: Comparing a sparse matrix with a nonzero scalar using != is inefficient, try using == instead.\n",
      "  test_pos_pairs = np.column_stack((movielens_matrix!=1).nonzero())\n"
     ]
    },
    {
     "name": "stdout",
     "output_type": "stream",
     "text": [
      "128 0.01 0.003 0.022608695652173914 0.06981884057971013\n"
     ]
    },
    {
     "name": "stderr",
     "output_type": "stream",
     "text": [
      "C:\\Users\\tmina\\Google ドライブ\\github\\RecommenderSystems\\chapter5\\notebook\\..\\src\\ials.py:235: SparseEfficiencyWarning: Comparing a sparse matrix with a nonzero scalar using != is inefficient, try using == instead.\n",
      "  test_pos_pairs = np.column_stack((movielens_matrix!=1).nonzero())\n"
     ]
    },
    {
     "name": "stdout",
     "output_type": "stream",
     "text": [
      "128 0.003 1 0.026630434782608695 0.08436594202898552\n"
     ]
    },
    {
     "name": "stderr",
     "output_type": "stream",
     "text": [
      "C:\\Users\\tmina\\Google ドライブ\\github\\RecommenderSystems\\chapter5\\notebook\\..\\src\\ials.py:235: SparseEfficiencyWarning: Comparing a sparse matrix with a nonzero scalar using != is inefficient, try using == instead.\n",
      "  test_pos_pairs = np.column_stack((movielens_matrix!=1).nonzero())\n"
     ]
    },
    {
     "name": "stdout",
     "output_type": "stream",
     "text": [
      "128 0.003 0.3 0.024021739130434785 0.075\n"
     ]
    },
    {
     "name": "stderr",
     "output_type": "stream",
     "text": [
      "C:\\Users\\tmina\\Google ドライブ\\github\\RecommenderSystems\\chapter5\\notebook\\..\\src\\ials.py:235: SparseEfficiencyWarning: Comparing a sparse matrix with a nonzero scalar using != is inefficient, try using == instead.\n",
      "  test_pos_pairs = np.column_stack((movielens_matrix!=1).nonzero())\n"
     ]
    },
    {
     "name": "stdout",
     "output_type": "stream",
     "text": [
      "128 0.003 0.1 0.02206521739130435 0.06757246376811593\n"
     ]
    },
    {
     "name": "stderr",
     "output_type": "stream",
     "text": [
      "C:\\Users\\tmina\\Google ドライブ\\github\\RecommenderSystems\\chapter5\\notebook\\..\\src\\ials.py:235: SparseEfficiencyWarning: Comparing a sparse matrix with a nonzero scalar using != is inefficient, try using == instead.\n",
      "  test_pos_pairs = np.column_stack((movielens_matrix!=1).nonzero())\n"
     ]
    },
    {
     "name": "stdout",
     "output_type": "stream",
     "text": [
      "128 0.003 0.03 0.020869565217391306 0.06547101449275362\n"
     ]
    },
    {
     "name": "stderr",
     "output_type": "stream",
     "text": [
      "C:\\Users\\tmina\\Google ドライブ\\github\\RecommenderSystems\\chapter5\\notebook\\..\\src\\ials.py:235: SparseEfficiencyWarning: Comparing a sparse matrix with a nonzero scalar using != is inefficient, try using == instead.\n",
      "  test_pos_pairs = np.column_stack((movielens_matrix!=1).nonzero())\n"
     ]
    },
    {
     "name": "stdout",
     "output_type": "stream",
     "text": [
      "128 0.003 0.01 0.022717391304347828 0.07172101449275362\n"
     ]
    },
    {
     "name": "stderr",
     "output_type": "stream",
     "text": [
      "C:\\Users\\tmina\\Google ドライブ\\github\\RecommenderSystems\\chapter5\\notebook\\..\\src\\ials.py:235: SparseEfficiencyWarning: Comparing a sparse matrix with a nonzero scalar using != is inefficient, try using == instead.\n",
      "  test_pos_pairs = np.column_stack((movielens_matrix!=1).nonzero())\n"
     ]
    },
    {
     "name": "stdout",
     "output_type": "stream",
     "text": [
      "128 0.003 0.003 0.022608695652173914 0.07132246376811595\n"
     ]
    },
    {
     "name": "stderr",
     "output_type": "stream",
     "text": [
      "C:\\Users\\tmina\\Google ドライブ\\github\\RecommenderSystems\\chapter5\\notebook\\..\\src\\ials.py:235: SparseEfficiencyWarning: Comparing a sparse matrix with a nonzero scalar using != is inefficient, try using == instead.\n",
      "  test_pos_pairs = np.column_stack((movielens_matrix!=1).nonzero())\n"
     ]
    },
    {
     "name": "stdout",
     "output_type": "stream",
     "text": [
      "128 0.001 1 0.025108695652173916 0.08048913043478259\n"
     ]
    },
    {
     "name": "stderr",
     "output_type": "stream",
     "text": [
      "C:\\Users\\tmina\\Google ドライブ\\github\\RecommenderSystems\\chapter5\\notebook\\..\\src\\ials.py:235: SparseEfficiencyWarning: Comparing a sparse matrix with a nonzero scalar using != is inefficient, try using == instead.\n",
      "  test_pos_pairs = np.column_stack((movielens_matrix!=1).nonzero())\n"
     ]
    },
    {
     "name": "stdout",
     "output_type": "stream",
     "text": [
      "128 0.001 0.3 0.02315217391304348 0.07434782608695653\n"
     ]
    },
    {
     "name": "stderr",
     "output_type": "stream",
     "text": [
      "C:\\Users\\tmina\\Google ドライブ\\github\\RecommenderSystems\\chapter5\\notebook\\..\\src\\ials.py:235: SparseEfficiencyWarning: Comparing a sparse matrix with a nonzero scalar using != is inefficient, try using == instead.\n",
      "  test_pos_pairs = np.column_stack((movielens_matrix!=1).nonzero())\n"
     ]
    },
    {
     "name": "stdout",
     "output_type": "stream",
     "text": [
      "128 0.001 0.1 0.021195652173913043 0.06465579710144928\n"
     ]
    },
    {
     "name": "stderr",
     "output_type": "stream",
     "text": [
      "C:\\Users\\tmina\\Google ドライブ\\github\\RecommenderSystems\\chapter5\\notebook\\..\\src\\ials.py:235: SparseEfficiencyWarning: Comparing a sparse matrix with a nonzero scalar using != is inefficient, try using == instead.\n",
      "  test_pos_pairs = np.column_stack((movielens_matrix!=1).nonzero())\n"
     ]
    },
    {
     "name": "stdout",
     "output_type": "stream",
     "text": [
      "128 0.001 0.03 0.020652173913043477 0.06432971014492754\n"
     ]
    },
    {
     "name": "stderr",
     "output_type": "stream",
     "text": [
      "C:\\Users\\tmina\\Google ドライブ\\github\\RecommenderSystems\\chapter5\\notebook\\..\\src\\ials.py:235: SparseEfficiencyWarning: Comparing a sparse matrix with a nonzero scalar using != is inefficient, try using == instead.\n",
      "  test_pos_pairs = np.column_stack((movielens_matrix!=1).nonzero())\n"
     ]
    },
    {
     "name": "stdout",
     "output_type": "stream",
     "text": [
      "128 0.001 0.01 0.023043478260869565 0.06829710144927535\n"
     ]
    },
    {
     "name": "stderr",
     "output_type": "stream",
     "text": [
      "C:\\Users\\tmina\\Google ドライブ\\github\\RecommenderSystems\\chapter5\\notebook\\..\\src\\ials.py:235: SparseEfficiencyWarning: Comparing a sparse matrix with a nonzero scalar using != is inefficient, try using == instead.\n",
      "  test_pos_pairs = np.column_stack((movielens_matrix!=1).nonzero())\n"
     ]
    },
    {
     "name": "stdout",
     "output_type": "stream",
     "text": [
      "128 0.001 0.003 0.021739130434782608 0.06463768115942027\n"
     ]
    },
    {
     "name": "stderr",
     "output_type": "stream",
     "text": [
      "C:\\Users\\tmina\\Google ドライブ\\github\\RecommenderSystems\\chapter5\\notebook\\..\\src\\ials.py:235: SparseEfficiencyWarning: Comparing a sparse matrix with a nonzero scalar using != is inefficient, try using == instead.\n",
      "  test_pos_pairs = np.column_stack((movielens_matrix!=1).nonzero())\n"
     ]
    },
    {
     "name": "stdout",
     "output_type": "stream",
     "text": [
      "128 0.0003 1 0.025108695652173916 0.08315217391304348\n"
     ]
    },
    {
     "name": "stderr",
     "output_type": "stream",
     "text": [
      "C:\\Users\\tmina\\Google ドライブ\\github\\RecommenderSystems\\chapter5\\notebook\\..\\src\\ials.py:235: SparseEfficiencyWarning: Comparing a sparse matrix with a nonzero scalar using != is inefficient, try using == instead.\n",
      "  test_pos_pairs = np.column_stack((movielens_matrix!=1).nonzero())\n"
     ]
    },
    {
     "name": "stdout",
     "output_type": "stream",
     "text": [
      "128 0.0003 0.3 0.021847826086956523 0.06947463768115941\n"
     ]
    },
    {
     "name": "stderr",
     "output_type": "stream",
     "text": [
      "C:\\Users\\tmina\\Google ドライブ\\github\\RecommenderSystems\\chapter5\\notebook\\..\\src\\ials.py:235: SparseEfficiencyWarning: Comparing a sparse matrix with a nonzero scalar using != is inefficient, try using == instead.\n",
      "  test_pos_pairs = np.column_stack((movielens_matrix!=1).nonzero())\n"
     ]
    },
    {
     "name": "stdout",
     "output_type": "stream",
     "text": [
      "128 0.0003 0.1 0.020326086956521737 0.0641304347826087\n"
     ]
    },
    {
     "name": "stderr",
     "output_type": "stream",
     "text": [
      "C:\\Users\\tmina\\Google ドライブ\\github\\RecommenderSystems\\chapter5\\notebook\\..\\src\\ials.py:235: SparseEfficiencyWarning: Comparing a sparse matrix with a nonzero scalar using != is inefficient, try using == instead.\n",
      "  test_pos_pairs = np.column_stack((movielens_matrix!=1).nonzero())\n"
     ]
    },
    {
     "name": "stdout",
     "output_type": "stream",
     "text": [
      "128 0.0003 0.03 0.02010869565217391 0.0640036231884058\n"
     ]
    },
    {
     "name": "stderr",
     "output_type": "stream",
     "text": [
      "C:\\Users\\tmina\\Google ドライブ\\github\\RecommenderSystems\\chapter5\\notebook\\..\\src\\ials.py:235: SparseEfficiencyWarning: Comparing a sparse matrix with a nonzero scalar using != is inefficient, try using == instead.\n",
      "  test_pos_pairs = np.column_stack((movielens_matrix!=1).nonzero())\n"
     ]
    },
    {
     "name": "stdout",
     "output_type": "stream",
     "text": [
      "128 0.0003 0.01 0.02108695652173913 0.06585144927536231\n"
     ]
    },
    {
     "name": "stderr",
     "output_type": "stream",
     "text": [
      "C:\\Users\\tmina\\Google ドライブ\\github\\RecommenderSystems\\chapter5\\notebook\\..\\src\\ials.py:235: SparseEfficiencyWarning: Comparing a sparse matrix with a nonzero scalar using != is inefficient, try using == instead.\n",
      "  test_pos_pairs = np.column_stack((movielens_matrix!=1).nonzero())\n"
     ]
    },
    {
     "name": "stdout",
     "output_type": "stream",
     "text": [
      "128 0.0003 0.003 0.020543478260869562 0.06985507246376811\n"
     ]
    },
    {
     "name": "stderr",
     "output_type": "stream",
     "text": [
      "C:\\Users\\tmina\\Google ドライブ\\github\\RecommenderSystems\\chapter5\\notebook\\..\\src\\ials.py:235: SparseEfficiencyWarning: Comparing a sparse matrix with a nonzero scalar using != is inefficient, try using == instead.\n",
      "  test_pos_pairs = np.column_stack((movielens_matrix!=1).nonzero())\n"
     ]
    },
    {
     "name": "stdout",
     "output_type": "stream",
     "text": [
      "256 0.1 1 0.015434782608695654 0.0491304347826087\n"
     ]
    },
    {
     "name": "stderr",
     "output_type": "stream",
     "text": [
      "C:\\Users\\tmina\\Google ドライブ\\github\\RecommenderSystems\\chapter5\\notebook\\..\\src\\ials.py:235: SparseEfficiencyWarning: Comparing a sparse matrix with a nonzero scalar using != is inefficient, try using == instead.\n",
      "  test_pos_pairs = np.column_stack((movielens_matrix!=1).nonzero())\n"
     ]
    },
    {
     "name": "stdout",
     "output_type": "stream",
     "text": [
      "256 0.1 0.3 0.015543478260869567 0.04961956521739131\n"
     ]
    },
    {
     "name": "stderr",
     "output_type": "stream",
     "text": [
      "C:\\Users\\tmina\\Google ドライブ\\github\\RecommenderSystems\\chapter5\\notebook\\..\\src\\ials.py:235: SparseEfficiencyWarning: Comparing a sparse matrix with a nonzero scalar using != is inefficient, try using == instead.\n",
      "  test_pos_pairs = np.column_stack((movielens_matrix!=1).nonzero())\n"
     ]
    },
    {
     "name": "stdout",
     "output_type": "stream",
     "text": [
      "256 0.1 0.1 0.01608695652173913 0.05014492753623188\n"
     ]
    },
    {
     "name": "stderr",
     "output_type": "stream",
     "text": [
      "C:\\Users\\tmina\\Google ドライブ\\github\\RecommenderSystems\\chapter5\\notebook\\..\\src\\ials.py:235: SparseEfficiencyWarning: Comparing a sparse matrix with a nonzero scalar using != is inefficient, try using == instead.\n",
      "  test_pos_pairs = np.column_stack((movielens_matrix!=1).nonzero())\n"
     ]
    },
    {
     "name": "stdout",
     "output_type": "stream",
     "text": [
      "256 0.1 0.03 0.01978260869565217 0.0631159420289855\n"
     ]
    },
    {
     "name": "stderr",
     "output_type": "stream",
     "text": [
      "C:\\Users\\tmina\\Google ドライブ\\github\\RecommenderSystems\\chapter5\\notebook\\..\\src\\ials.py:235: SparseEfficiencyWarning: Comparing a sparse matrix with a nonzero scalar using != is inefficient, try using == instead.\n",
      "  test_pos_pairs = np.column_stack((movielens_matrix!=1).nonzero())\n"
     ]
    },
    {
     "name": "stdout",
     "output_type": "stream",
     "text": [
      "256 0.1 0.01 0.017282608695652176 0.05373188405797101\n"
     ]
    },
    {
     "name": "stderr",
     "output_type": "stream",
     "text": [
      "C:\\Users\\tmina\\Google ドライブ\\github\\RecommenderSystems\\chapter5\\notebook\\..\\src\\ials.py:235: SparseEfficiencyWarning: Comparing a sparse matrix with a nonzero scalar using != is inefficient, try using == instead.\n",
      "  test_pos_pairs = np.column_stack((movielens_matrix!=1).nonzero())\n"
     ]
    },
    {
     "name": "stdout",
     "output_type": "stream",
     "text": [
      "256 0.1 0.003 0.014239130434782608 0.04385869565217391\n"
     ]
    },
    {
     "name": "stderr",
     "output_type": "stream",
     "text": [
      "C:\\Users\\tmina\\Google ドライブ\\github\\RecommenderSystems\\chapter5\\notebook\\..\\src\\ials.py:235: SparseEfficiencyWarning: Comparing a sparse matrix with a nonzero scalar using != is inefficient, try using == instead.\n",
      "  test_pos_pairs = np.column_stack((movielens_matrix!=1).nonzero())\n"
     ]
    },
    {
     "name": "stdout",
     "output_type": "stream",
     "text": [
      "256 0.03 1 0.015326086956521741 0.04891304347826087\n"
     ]
    },
    {
     "name": "stderr",
     "output_type": "stream",
     "text": [
      "C:\\Users\\tmina\\Google ドライブ\\github\\RecommenderSystems\\chapter5\\notebook\\..\\src\\ials.py:235: SparseEfficiencyWarning: Comparing a sparse matrix with a nonzero scalar using != is inefficient, try using == instead.\n",
      "  test_pos_pairs = np.column_stack((movielens_matrix!=1).nonzero())\n"
     ]
    },
    {
     "name": "stdout",
     "output_type": "stream",
     "text": [
      "256 0.03 0.3 0.021847826086956523 0.07181159420289855\n"
     ]
    },
    {
     "name": "stderr",
     "output_type": "stream",
     "text": [
      "C:\\Users\\tmina\\Google ドライブ\\github\\RecommenderSystems\\chapter5\\notebook\\..\\src\\ials.py:235: SparseEfficiencyWarning: Comparing a sparse matrix with a nonzero scalar using != is inefficient, try using == instead.\n",
      "  test_pos_pairs = np.column_stack((movielens_matrix!=1).nonzero())\n"
     ]
    },
    {
     "name": "stdout",
     "output_type": "stream",
     "text": [
      "256 0.03 0.1 0.0225 0.07005434782608694\n"
     ]
    },
    {
     "name": "stderr",
     "output_type": "stream",
     "text": [
      "C:\\Users\\tmina\\Google ドライブ\\github\\RecommenderSystems\\chapter5\\notebook\\..\\src\\ials.py:235: SparseEfficiencyWarning: Comparing a sparse matrix with a nonzero scalar using != is inefficient, try using == instead.\n",
      "  test_pos_pairs = np.column_stack((movielens_matrix!=1).nonzero())\n"
     ]
    },
    {
     "name": "stdout",
     "output_type": "stream",
     "text": [
      "256 0.03 0.03 0.021630434782608697 0.06463768115942028\n"
     ]
    },
    {
     "name": "stderr",
     "output_type": "stream",
     "text": [
      "C:\\Users\\tmina\\Google ドライブ\\github\\RecommenderSystems\\chapter5\\notebook\\..\\src\\ials.py:235: SparseEfficiencyWarning: Comparing a sparse matrix with a nonzero scalar using != is inefficient, try using == instead.\n",
      "  test_pos_pairs = np.column_stack((movielens_matrix!=1).nonzero())\n"
     ]
    },
    {
     "name": "stdout",
     "output_type": "stream",
     "text": [
      "256 0.03 0.01 0.020217391304347826 0.06019927536231883\n"
     ]
    },
    {
     "name": "stderr",
     "output_type": "stream",
     "text": [
      "C:\\Users\\tmina\\Google ドライブ\\github\\RecommenderSystems\\chapter5\\notebook\\..\\src\\ials.py:235: SparseEfficiencyWarning: Comparing a sparse matrix with a nonzero scalar using != is inefficient, try using == instead.\n",
      "  test_pos_pairs = np.column_stack((movielens_matrix!=1).nonzero())\n"
     ]
    },
    {
     "name": "stdout",
     "output_type": "stream",
     "text": [
      "256 0.03 0.003 0.01826086956521739 0.05748188405797101\n"
     ]
    },
    {
     "name": "stderr",
     "output_type": "stream",
     "text": [
      "C:\\Users\\tmina\\Google ドライブ\\github\\RecommenderSystems\\chapter5\\notebook\\..\\src\\ials.py:235: SparseEfficiencyWarning: Comparing a sparse matrix with a nonzero scalar using != is inefficient, try using == instead.\n",
      "  test_pos_pairs = np.column_stack((movielens_matrix!=1).nonzero())\n"
     ]
    },
    {
     "name": "stdout",
     "output_type": "stream",
     "text": [
      "256 0.01 1 0.020869565217391306 0.06717391304347826\n"
     ]
    },
    {
     "name": "stderr",
     "output_type": "stream",
     "text": [
      "C:\\Users\\tmina\\Google ドライブ\\github\\RecommenderSystems\\chapter5\\notebook\\..\\src\\ials.py:235: SparseEfficiencyWarning: Comparing a sparse matrix with a nonzero scalar using != is inefficient, try using == instead.\n",
      "  test_pos_pairs = np.column_stack((movielens_matrix!=1).nonzero())\n"
     ]
    },
    {
     "name": "stdout",
     "output_type": "stream",
     "text": [
      "256 0.01 0.3 0.025869565217391303 0.07952898550724637\n"
     ]
    },
    {
     "name": "stderr",
     "output_type": "stream",
     "text": [
      "C:\\Users\\tmina\\Google ドライブ\\github\\RecommenderSystems\\chapter5\\notebook\\..\\src\\ials.py:235: SparseEfficiencyWarning: Comparing a sparse matrix with a nonzero scalar using != is inefficient, try using == instead.\n",
      "  test_pos_pairs = np.column_stack((movielens_matrix!=1).nonzero())\n"
     ]
    },
    {
     "name": "stdout",
     "output_type": "stream",
     "text": [
      "256 0.01 0.1 0.025 0.07831521739130434\n"
     ]
    },
    {
     "name": "stderr",
     "output_type": "stream",
     "text": [
      "C:\\Users\\tmina\\Google ドライブ\\github\\RecommenderSystems\\chapter5\\notebook\\..\\src\\ials.py:235: SparseEfficiencyWarning: Comparing a sparse matrix with a nonzero scalar using != is inefficient, try using == instead.\n",
      "  test_pos_pairs = np.column_stack((movielens_matrix!=1).nonzero())\n"
     ]
    },
    {
     "name": "stdout",
     "output_type": "stream",
     "text": [
      "256 0.01 0.03 0.022608695652173917 0.06998188405797101\n"
     ]
    },
    {
     "name": "stderr",
     "output_type": "stream",
     "text": [
      "C:\\Users\\tmina\\Google ドライブ\\github\\RecommenderSystems\\chapter5\\notebook\\..\\src\\ials.py:235: SparseEfficiencyWarning: Comparing a sparse matrix with a nonzero scalar using != is inefficient, try using == instead.\n",
      "  test_pos_pairs = np.column_stack((movielens_matrix!=1).nonzero())\n"
     ]
    },
    {
     "name": "stdout",
     "output_type": "stream",
     "text": [
      "256 0.01 0.01 0.022717391304347825 0.07057971014492755\n"
     ]
    },
    {
     "name": "stderr",
     "output_type": "stream",
     "text": [
      "C:\\Users\\tmina\\Google ドライブ\\github\\RecommenderSystems\\chapter5\\notebook\\..\\src\\ials.py:235: SparseEfficiencyWarning: Comparing a sparse matrix with a nonzero scalar using != is inefficient, try using == instead.\n",
      "  test_pos_pairs = np.column_stack((movielens_matrix!=1).nonzero())\n"
     ]
    },
    {
     "name": "stdout",
     "output_type": "stream",
     "text": [
      "256 0.01 0.003 0.022934782608695654 0.07146739130434783\n"
     ]
    },
    {
     "name": "stderr",
     "output_type": "stream",
     "text": [
      "C:\\Users\\tmina\\Google ドライブ\\github\\RecommenderSystems\\chapter5\\notebook\\..\\src\\ials.py:235: SparseEfficiencyWarning: Comparing a sparse matrix with a nonzero scalar using != is inefficient, try using == instead.\n",
      "  test_pos_pairs = np.column_stack((movielens_matrix!=1).nonzero())\n"
     ]
    },
    {
     "name": "stdout",
     "output_type": "stream",
     "text": [
      "256 0.003 1 0.02652173913043478 0.08240942028985507\n"
     ]
    },
    {
     "name": "stderr",
     "output_type": "stream",
     "text": [
      "C:\\Users\\tmina\\Google ドライブ\\github\\RecommenderSystems\\chapter5\\notebook\\..\\src\\ials.py:235: SparseEfficiencyWarning: Comparing a sparse matrix with a nonzero scalar using != is inefficient, try using == instead.\n",
      "  test_pos_pairs = np.column_stack((movielens_matrix!=1).nonzero())\n"
     ]
    },
    {
     "name": "stdout",
     "output_type": "stream",
     "text": [
      "256 0.003 0.3 0.023260869565217394 0.0732427536231884\n"
     ]
    },
    {
     "name": "stderr",
     "output_type": "stream",
     "text": [
      "C:\\Users\\tmina\\Google ドライブ\\github\\RecommenderSystems\\chapter5\\notebook\\..\\src\\ials.py:235: SparseEfficiencyWarning: Comparing a sparse matrix with a nonzero scalar using != is inefficient, try using == instead.\n",
      "  test_pos_pairs = np.column_stack((movielens_matrix!=1).nonzero())\n"
     ]
    },
    {
     "name": "stdout",
     "output_type": "stream",
     "text": [
      "256 0.003 0.1 0.022065217391304345 0.06721014492753623\n"
     ]
    },
    {
     "name": "stderr",
     "output_type": "stream",
     "text": [
      "C:\\Users\\tmina\\Google ドライブ\\github\\RecommenderSystems\\chapter5\\notebook\\..\\src\\ials.py:235: SparseEfficiencyWarning: Comparing a sparse matrix with a nonzero scalar using != is inefficient, try using == instead.\n",
      "  test_pos_pairs = np.column_stack((movielens_matrix!=1).nonzero())\n"
     ]
    },
    {
     "name": "stdout",
     "output_type": "stream",
     "text": [
      "256 0.003 0.03 0.022934782608695654 0.06753623188405797\n"
     ]
    },
    {
     "name": "stderr",
     "output_type": "stream",
     "text": [
      "C:\\Users\\tmina\\Google ドライブ\\github\\RecommenderSystems\\chapter5\\notebook\\..\\src\\ials.py:235: SparseEfficiencyWarning: Comparing a sparse matrix with a nonzero scalar using != is inefficient, try using == instead.\n",
      "  test_pos_pairs = np.column_stack((movielens_matrix!=1).nonzero())\n"
     ]
    },
    {
     "name": "stdout",
     "output_type": "stream",
     "text": [
      "256 0.003 0.01 0.02347826086956522 0.07159420289855073\n"
     ]
    },
    {
     "name": "stderr",
     "output_type": "stream",
     "text": [
      "C:\\Users\\tmina\\Google ドライブ\\github\\RecommenderSystems\\chapter5\\notebook\\..\\src\\ials.py:235: SparseEfficiencyWarning: Comparing a sparse matrix with a nonzero scalar using != is inefficient, try using == instead.\n",
      "  test_pos_pairs = np.column_stack((movielens_matrix!=1).nonzero())\n"
     ]
    },
    {
     "name": "stdout",
     "output_type": "stream",
     "text": [
      "256 0.003 0.003 0.0225 0.07125\n"
     ]
    },
    {
     "name": "stderr",
     "output_type": "stream",
     "text": [
      "C:\\Users\\tmina\\Google ドライブ\\github\\RecommenderSystems\\chapter5\\notebook\\..\\src\\ials.py:235: SparseEfficiencyWarning: Comparing a sparse matrix with a nonzero scalar using != is inefficient, try using == instead.\n",
      "  test_pos_pairs = np.column_stack((movielens_matrix!=1).nonzero())\n"
     ]
    },
    {
     "name": "stdout",
     "output_type": "stream",
     "text": [
      "256 0.001 1 0.023369565217391305 0.07331521739130434\n"
     ]
    },
    {
     "name": "stderr",
     "output_type": "stream",
     "text": [
      "C:\\Users\\tmina\\Google ドライブ\\github\\RecommenderSystems\\chapter5\\notebook\\..\\src\\ials.py:235: SparseEfficiencyWarning: Comparing a sparse matrix with a nonzero scalar using != is inefficient, try using == instead.\n",
      "  test_pos_pairs = np.column_stack((movielens_matrix!=1).nonzero())\n"
     ]
    },
    {
     "name": "stdout",
     "output_type": "stream",
     "text": [
      "256 0.001 0.3 0.02010869565217391 0.06240942028985507\n"
     ]
    },
    {
     "name": "stderr",
     "output_type": "stream",
     "text": [
      "C:\\Users\\tmina\\Google ドライブ\\github\\RecommenderSystems\\chapter5\\notebook\\..\\src\\ials.py:235: SparseEfficiencyWarning: Comparing a sparse matrix with a nonzero scalar using != is inefficient, try using == instead.\n",
      "  test_pos_pairs = np.column_stack((movielens_matrix!=1).nonzero())\n"
     ]
    },
    {
     "name": "stdout",
     "output_type": "stream",
     "text": [
      "256 0.001 0.1 0.020217391304347826 0.06353260869565218\n"
     ]
    },
    {
     "name": "stderr",
     "output_type": "stream",
     "text": [
      "C:\\Users\\tmina\\Google ドライブ\\github\\RecommenderSystems\\chapter5\\notebook\\..\\src\\ials.py:235: SparseEfficiencyWarning: Comparing a sparse matrix with a nonzero scalar using != is inefficient, try using == instead.\n",
      "  test_pos_pairs = np.column_stack((movielens_matrix!=1).nonzero())\n"
     ]
    },
    {
     "name": "stdout",
     "output_type": "stream",
     "text": [
      "256 0.001 0.03 0.01956521739130435 0.05943840579710145\n"
     ]
    },
    {
     "name": "stderr",
     "output_type": "stream",
     "text": [
      "C:\\Users\\tmina\\Google ドライブ\\github\\RecommenderSystems\\chapter5\\notebook\\..\\src\\ials.py:235: SparseEfficiencyWarning: Comparing a sparse matrix with a nonzero scalar using != is inefficient, try using == instead.\n",
      "  test_pos_pairs = np.column_stack((movielens_matrix!=1).nonzero())\n"
     ]
    },
    {
     "name": "stdout",
     "output_type": "stream",
     "text": [
      "256 0.001 0.01 0.021521739130434783 0.06905797101449275\n"
     ]
    },
    {
     "name": "stderr",
     "output_type": "stream",
     "text": [
      "C:\\Users\\tmina\\Google ドライブ\\github\\RecommenderSystems\\chapter5\\notebook\\..\\src\\ials.py:235: SparseEfficiencyWarning: Comparing a sparse matrix with a nonzero scalar using != is inefficient, try using == instead.\n",
      "  test_pos_pairs = np.column_stack((movielens_matrix!=1).nonzero())\n"
     ]
    },
    {
     "name": "stdout",
     "output_type": "stream",
     "text": [
      "256 0.001 0.003 0.02358695652173913 0.07070652173913045\n"
     ]
    },
    {
     "name": "stderr",
     "output_type": "stream",
     "text": [
      "C:\\Users\\tmina\\Google ドライブ\\github\\RecommenderSystems\\chapter5\\notebook\\..\\src\\ials.py:235: SparseEfficiencyWarning: Comparing a sparse matrix with a nonzero scalar using != is inefficient, try using == instead.\n",
      "  test_pos_pairs = np.column_stack((movielens_matrix!=1).nonzero())\n"
     ]
    },
    {
     "name": "stdout",
     "output_type": "stream",
     "text": [
      "256 0.0003 1 0.01989130434782609 0.0647463768115942\n"
     ]
    },
    {
     "name": "stderr",
     "output_type": "stream",
     "text": [
      "C:\\Users\\tmina\\Google ドライブ\\github\\RecommenderSystems\\chapter5\\notebook\\..\\src\\ials.py:235: SparseEfficiencyWarning: Comparing a sparse matrix with a nonzero scalar using != is inefficient, try using == instead.\n",
      "  test_pos_pairs = np.column_stack((movielens_matrix!=1).nonzero())\n"
     ]
    },
    {
     "name": "stdout",
     "output_type": "stream",
     "text": [
      "256 0.0003 0.3 0.01815217391304348 0.057210144927536226\n"
     ]
    },
    {
     "name": "stderr",
     "output_type": "stream",
     "text": [
      "C:\\Users\\tmina\\Google ドライブ\\github\\RecommenderSystems\\chapter5\\notebook\\..\\src\\ials.py:235: SparseEfficiencyWarning: Comparing a sparse matrix with a nonzero scalar using != is inefficient, try using == instead.\n",
      "  test_pos_pairs = np.column_stack((movielens_matrix!=1).nonzero())\n"
     ]
    },
    {
     "name": "stdout",
     "output_type": "stream",
     "text": [
      "256 0.0003 0.1 0.01880434782608696 0.05793478260869565\n"
     ]
    },
    {
     "name": "stderr",
     "output_type": "stream",
     "text": [
      "C:\\Users\\tmina\\Google ドライブ\\github\\RecommenderSystems\\chapter5\\notebook\\..\\src\\ials.py:235: SparseEfficiencyWarning: Comparing a sparse matrix with a nonzero scalar using != is inefficient, try using == instead.\n",
      "  test_pos_pairs = np.column_stack((movielens_matrix!=1).nonzero())\n"
     ]
    },
    {
     "name": "stdout",
     "output_type": "stream",
     "text": [
      "256 0.0003 0.03 0.01706521739130435 0.05333333333333334\n"
     ]
    },
    {
     "name": "stderr",
     "output_type": "stream",
     "text": [
      "C:\\Users\\tmina\\Google ドライブ\\github\\RecommenderSystems\\chapter5\\notebook\\..\\src\\ials.py:235: SparseEfficiencyWarning: Comparing a sparse matrix with a nonzero scalar using != is inefficient, try using == instead.\n",
      "  test_pos_pairs = np.column_stack((movielens_matrix!=1).nonzero())\n"
     ]
    },
    {
     "name": "stdout",
     "output_type": "stream",
     "text": [
      "256 0.0003 0.01 0.019999999999999997 0.06365942028985506\n"
     ]
    },
    {
     "name": "stderr",
     "output_type": "stream",
     "text": [
      "C:\\Users\\tmina\\Google ドライブ\\github\\RecommenderSystems\\chapter5\\notebook\\..\\src\\ials.py:235: SparseEfficiencyWarning: Comparing a sparse matrix with a nonzero scalar using != is inefficient, try using == instead.\n",
      "  test_pos_pairs = np.column_stack((movielens_matrix!=1).nonzero())\n"
     ]
    },
    {
     "name": "stdout",
     "output_type": "stream",
     "text": [
      "256 0.0003 0.003 0.02010869565217391 0.06222826086956522\n"
     ]
    },
    {
     "name": "stderr",
     "output_type": "stream",
     "text": [
      "C:\\Users\\tmina\\Google ドライブ\\github\\RecommenderSystems\\chapter5\\notebook\\..\\src\\ials.py:235: SparseEfficiencyWarning: Comparing a sparse matrix with a nonzero scalar using != is inefficient, try using == instead.\n",
      "  test_pos_pairs = np.column_stack((movielens_matrix!=1).nonzero())\n"
     ]
    },
    {
     "name": "stdout",
     "output_type": "stream",
     "text": [
      "512 0.1 1 0.015434782608695654 0.0491304347826087\n"
     ]
    },
    {
     "name": "stderr",
     "output_type": "stream",
     "text": [
      "C:\\Users\\tmina\\Google ドライブ\\github\\RecommenderSystems\\chapter5\\notebook\\..\\src\\ials.py:235: SparseEfficiencyWarning: Comparing a sparse matrix with a nonzero scalar using != is inefficient, try using == instead.\n",
      "  test_pos_pairs = np.column_stack((movielens_matrix!=1).nonzero())\n"
     ]
    },
    {
     "name": "stdout",
     "output_type": "stream",
     "text": [
      "512 0.1 0.3 0.015543478260869567 0.04961956521739131\n"
     ]
    },
    {
     "name": "stderr",
     "output_type": "stream",
     "text": [
      "C:\\Users\\tmina\\Google ドライブ\\github\\RecommenderSystems\\chapter5\\notebook\\..\\src\\ials.py:235: SparseEfficiencyWarning: Comparing a sparse matrix with a nonzero scalar using != is inefficient, try using == instead.\n",
      "  test_pos_pairs = np.column_stack((movielens_matrix!=1).nonzero())\n"
     ]
    },
    {
     "name": "stdout",
     "output_type": "stream",
     "text": [
      "512 0.1 0.1 0.01608695652173913 0.05014492753623188\n"
     ]
    },
    {
     "name": "stderr",
     "output_type": "stream",
     "text": [
      "C:\\Users\\tmina\\Google ドライブ\\github\\RecommenderSystems\\chapter5\\notebook\\..\\src\\ials.py:235: SparseEfficiencyWarning: Comparing a sparse matrix with a nonzero scalar using != is inefficient, try using == instead.\n",
      "  test_pos_pairs = np.column_stack((movielens_matrix!=1).nonzero())\n"
     ]
    },
    {
     "name": "stdout",
     "output_type": "stream",
     "text": [
      "512 0.1 0.03 0.01978260869565217 0.0631159420289855\n"
     ]
    },
    {
     "name": "stderr",
     "output_type": "stream",
     "text": [
      "C:\\Users\\tmina\\Google ドライブ\\github\\RecommenderSystems\\chapter5\\notebook\\..\\src\\ials.py:235: SparseEfficiencyWarning: Comparing a sparse matrix with a nonzero scalar using != is inefficient, try using == instead.\n",
      "  test_pos_pairs = np.column_stack((movielens_matrix!=1).nonzero())\n"
     ]
    },
    {
     "name": "stdout",
     "output_type": "stream",
     "text": [
      "512 0.1 0.01 0.01717391304347826 0.0533695652173913\n"
     ]
    },
    {
     "ename": "KeyboardInterrupt",
     "evalue": "",
     "output_type": "error",
     "traceback": [
      "\u001b[1;31m---------------------------------------------------------------------------\u001b[0m",
      "\u001b[1;31mKeyboardInterrupt\u001b[0m                         Traceback (most recent call last)",
      "Cell \u001b[1;32mIn [5], line 6\u001b[0m\n\u001b[0;32m      4\u001b[0m \u001b[38;5;28;01mfor\u001b[39;00m regularization \u001b[38;5;129;01min\u001b[39;00m [\u001b[38;5;241m0.1\u001b[39m, \u001b[38;5;241m0.03\u001b[39m, \u001b[38;5;241m0.01\u001b[39m, \u001b[38;5;241m0.003\u001b[39m, \u001b[38;5;241m0.001\u001b[39m, \u001b[38;5;241m0.0003\u001b[39m]:\n\u001b[0;32m      5\u001b[0m     \u001b[38;5;28;01mfor\u001b[39;00m unobserved_weight \u001b[38;5;129;01min\u001b[39;00m [\u001b[38;5;241m1\u001b[39m, \u001b[38;5;241m0.3\u001b[39m, \u001b[38;5;241m0.1\u001b[39m, \u001b[38;5;241m0.03\u001b[39m, \u001b[38;5;241m0.01\u001b[39m, \u001b[38;5;241m0.003\u001b[39m]:\n\u001b[1;32m----> 6\u001b[0m         recommend_result \u001b[38;5;241m=\u001b[39m \u001b[43mrecommender\u001b[49m\u001b[38;5;241;43m.\u001b[39;49m\u001b[43mrecommend\u001b[49m\u001b[43m(\u001b[49m\u001b[43mmovielens\u001b[49m\u001b[43m,\u001b[49m\n\u001b[0;32m      7\u001b[0m \u001b[43m                                                 \u001b[49m\u001b[43mepochs\u001b[49m\u001b[38;5;241;43m=\u001b[39;49m\u001b[38;5;241;43m16\u001b[39;49m\u001b[43m,\u001b[49m\n\u001b[0;32m      8\u001b[0m \u001b[43m                                                 \u001b[49m\u001b[43membedding_dim\u001b[49m\u001b[38;5;241;43m=\u001b[39;49m\u001b[43membedding_dim\u001b[49m\u001b[43m,\u001b[49m\n\u001b[0;32m      9\u001b[0m \u001b[43m                                                 \u001b[49m\u001b[43mregularization\u001b[49m\u001b[38;5;241;43m=\u001b[39;49m\u001b[43mregularization\u001b[49m\u001b[43m,\u001b[49m\n\u001b[0;32m     10\u001b[0m \u001b[43m                                                 \u001b[49m\u001b[43munobserved_weight\u001b[49m\u001b[38;5;241;43m=\u001b[39;49m\u001b[43munobserved_weight\u001b[49m\u001b[43m,\u001b[49m\n\u001b[0;32m     11\u001b[0m \u001b[43m                                                \u001b[49m\u001b[43m)\u001b[49m\n\u001b[0;32m     12\u001b[0m         metric_calculator \u001b[38;5;241m=\u001b[39m MetricCalculator()\n\u001b[0;32m     13\u001b[0m         metrics \u001b[38;5;241m=\u001b[39m metric_calculator\u001b[38;5;241m.\u001b[39mcalc(\n\u001b[0;32m     14\u001b[0m             movielens\u001b[38;5;241m.\u001b[39mtest\u001b[38;5;241m.\u001b[39mrating\u001b[38;5;241m.\u001b[39mtolist(), recommend_result\u001b[38;5;241m.\u001b[39mrating\u001b[38;5;241m.\u001b[39mtolist(),\n\u001b[0;32m     15\u001b[0m             movielens\u001b[38;5;241m.\u001b[39mtest_user2items, recommend_result\u001b[38;5;241m.\u001b[39muser2items, k\u001b[38;5;241m=\u001b[39m\u001b[38;5;241m10\u001b[39m)\n",
      "File \u001b[1;32m~\\Google ドライブ\\github\\RecommenderSystems\\chapter5\\notebook\\..\\src\\ials.py:232\u001b[0m, in \u001b[0;36miALSRecommender.recommend\u001b[1;34m(self, dataset, **kwargs)\u001b[0m\n\u001b[0;32m    229\u001b[0m \u001b[38;5;66;03m# 学習\u001b[39;00m\n\u001b[0;32m    230\u001b[0m \u001b[38;5;28;01mfor\u001b[39;00m epoch \u001b[38;5;129;01min\u001b[39;00m \u001b[38;5;28mrange\u001b[39m(epochs):\n\u001b[0;32m    231\u001b[0m     \u001b[38;5;66;03m# Training\u001b[39;00m\n\u001b[1;32m--> 232\u001b[0m     _ \u001b[38;5;241m=\u001b[39m \u001b[43mmodel\u001b[49m\u001b[38;5;241;43m.\u001b[39;49m\u001b[43mtrain\u001b[49m\u001b[43m(\u001b[49m\u001b[43mtrain_ds\u001b[49m\u001b[43m)\u001b[49m\n\u001b[0;32m    234\u001b[0m \u001b[38;5;66;03m# 推薦\u001b[39;00m\n\u001b[0;32m    235\u001b[0m test_pos_pairs \u001b[38;5;241m=\u001b[39m np\u001b[38;5;241m.\u001b[39mcolumn_stack((movielens_matrix\u001b[38;5;241m!=\u001b[39m\u001b[38;5;241m1\u001b[39m)\u001b[38;5;241m.\u001b[39mnonzero())\n",
      "File \u001b[1;32m~\\Google ドライブ\\github\\RecommenderSystems\\chapter5\\notebook\\..\\src\\ials.py:97\u001b[0m, in \u001b[0;36mIALS.train\u001b[1;34m(self, ds)\u001b[0m\n\u001b[0;32m     95\u001b[0m \u001b[38;5;28mself\u001b[39m\u001b[38;5;241m.\u001b[39m_update_user_gramian()\n\u001b[0;32m     96\u001b[0m \u001b[38;5;66;03m# Solve for the item embeddings\u001b[39;00m\n\u001b[1;32m---> 97\u001b[0m \u001b[38;5;28;43mself\u001b[39;49m\u001b[38;5;241;43m.\u001b[39;49m\u001b[43m_solve\u001b[49m\u001b[43m(\u001b[49m\u001b[43mds\u001b[49m\u001b[38;5;241;43m.\u001b[39;49m\u001b[43mitem_batches\u001b[49m\u001b[43m,\u001b[49m\u001b[43m \u001b[49m\u001b[43mis_user\u001b[49m\u001b[38;5;241;43m=\u001b[39;49m\u001b[38;5;28;43;01mFalse\u001b[39;49;00m\u001b[43m)\u001b[49m\n\u001b[0;32m     98\u001b[0m \u001b[38;5;28mself\u001b[39m\u001b[38;5;241m.\u001b[39m_update_item_gramian()\n",
      "File \u001b[1;32m~\\Google ドライブ\\github\\RecommenderSystems\\chapter5\\notebook\\..\\src\\ials.py:110\u001b[0m, in \u001b[0;36mIALS._solve\u001b[1;34m(self, batches, is_user)\u001b[0m\n\u001b[0;32m    107\u001b[0m   embedding \u001b[38;5;241m=\u001b[39m \u001b[38;5;28mself\u001b[39m\u001b[38;5;241m.\u001b[39mitem_embedding\n\u001b[0;32m    108\u001b[0m   args \u001b[38;5;241m=\u001b[39m (\u001b[38;5;28mself\u001b[39m\u001b[38;5;241m.\u001b[39muser_embedding, \u001b[38;5;28mself\u001b[39m\u001b[38;5;241m.\u001b[39muser_gramian, \u001b[38;5;28mself\u001b[39m\u001b[38;5;241m.\u001b[39mreg,\n\u001b[0;32m    109\u001b[0m           \u001b[38;5;28mself\u001b[39m\u001b[38;5;241m.\u001b[39munobserved_weight)\n\u001b[1;32m--> 110\u001b[0m results \u001b[38;5;241m=\u001b[39m \u001b[43mmap_parallel\u001b[49m\u001b[43m(\u001b[49m\u001b[43msolve\u001b[49m\u001b[43m,\u001b[49m\u001b[43m \u001b[49m\u001b[43mbatches\u001b[49m\u001b[43m,\u001b[49m\u001b[43m \u001b[49m\u001b[38;5;241;43m*\u001b[39;49m\u001b[43margs\u001b[49m\u001b[43m)\u001b[49m\n\u001b[0;32m    111\u001b[0m \u001b[38;5;28;01mfor\u001b[39;00m r \u001b[38;5;129;01min\u001b[39;00m results:\n\u001b[0;32m    112\u001b[0m   \u001b[38;5;28;01mfor\u001b[39;00m user, emb \u001b[38;5;129;01min\u001b[39;00m r\u001b[38;5;241m.\u001b[39mitems():\n",
      "File \u001b[1;32m~\\Google ドライブ\\github\\RecommenderSystems\\chapter5\\notebook\\..\\src\\ials.py:119\u001b[0m, in \u001b[0;36mmap_parallel\u001b[1;34m(fn, xs, *args)\u001b[0m\n\u001b[0;32m    117\u001b[0m \u001b[38;5;124;03m\"\"\"Applies a function to a list, equivalent to [fn(x, *args) for x in xs].\"\"\"\u001b[39;00m\n\u001b[0;32m    118\u001b[0m \u001b[38;5;28;01mif\u001b[39;00m \u001b[38;5;28mlen\u001b[39m(xs) \u001b[38;5;241m==\u001b[39m \u001b[38;5;241m1\u001b[39m:\n\u001b[1;32m--> 119\u001b[0m   \u001b[38;5;28;01mreturn\u001b[39;00m [\u001b[43mfn\u001b[49m\u001b[43m(\u001b[49m\u001b[43mxs\u001b[49m\u001b[43m[\u001b[49m\u001b[38;5;241;43m0\u001b[39;49m\u001b[43m]\u001b[49m\u001b[43m,\u001b[49m\u001b[43m \u001b[49m\u001b[38;5;241;43m*\u001b[39;49m\u001b[43margs\u001b[49m\u001b[43m)\u001b[49m]\n\u001b[0;32m    121\u001b[0m num_threads \u001b[38;5;241m=\u001b[39m \u001b[38;5;28mlen\u001b[39m(xs)\n\u001b[0;32m    122\u001b[0m executor \u001b[38;5;241m=\u001b[39m concurrent\u001b[38;5;241m.\u001b[39mfutures\u001b[38;5;241m.\u001b[39mProcessPoolExecutor(num_threads)\n",
      "File \u001b[1;32m~\\Google ドライブ\\github\\RecommenderSystems\\chapter5\\notebook\\..\\src\\ials.py:134\u001b[0m, in \u001b[0;36msolve\u001b[1;34m(data_by_user, item_embedding, item_gramian, global_reg, unobserved_weight)\u001b[0m\n\u001b[0;32m    132\u001b[0m \u001b[38;5;28;01mfor\u001b[39;00m user, items \u001b[38;5;129;01min\u001b[39;00m data_by_user:\n\u001b[0;32m    133\u001b[0m   reg \u001b[38;5;241m=\u001b[39m global_reg \u001b[38;5;241m*\u001b[39m(\u001b[38;5;28mlen\u001b[39m(items) \u001b[38;5;241m+\u001b[39m unobserved_weight \u001b[38;5;241m*\u001b[39m item_embedding\u001b[38;5;241m.\u001b[39mshape[\u001b[38;5;241m0\u001b[39m])\n\u001b[1;32m--> 134\u001b[0m   user_embedding[user] \u001b[38;5;241m=\u001b[39m \u001b[43mproject\u001b[49m\u001b[43m(\u001b[49m\n\u001b[0;32m    135\u001b[0m \u001b[43m      \u001b[49m\u001b[43mitems\u001b[49m\u001b[43m,\u001b[49m\u001b[43m \u001b[49m\u001b[43mitem_embedding\u001b[49m\u001b[43m,\u001b[49m\u001b[43m \u001b[49m\u001b[43mitem_gramian\u001b[49m\u001b[43m,\u001b[49m\u001b[43m \u001b[49m\u001b[43mreg\u001b[49m\u001b[43m,\u001b[49m\u001b[43m \u001b[49m\u001b[43munobserved_weight\u001b[49m\u001b[43m)\u001b[49m\n\u001b[0;32m    136\u001b[0m \u001b[38;5;28;01mreturn\u001b[39;00m user_embedding\n",
      "File \u001b[1;32m~\\Google ドライブ\\github\\RecommenderSystems\\chapter5\\notebook\\..\\src\\ials.py:153\u001b[0m, in \u001b[0;36mproject\u001b[1;34m(user_history, item_embedding, item_gramian, reg, unobserved_weight)\u001b[0m\n\u001b[0;32m    151\u001b[0m lhs \u001b[38;5;241m+\u001b[39m\u001b[38;5;241m=\u001b[39m unobserved_weight \u001b[38;5;241m*\u001b[39m item_gramian\n\u001b[0;32m    152\u001b[0m lhs \u001b[38;5;241m=\u001b[39m lhs \u001b[38;5;241m+\u001b[39m np\u001b[38;5;241m.\u001b[39midentity(emb_dim) \u001b[38;5;241m*\u001b[39m reg\n\u001b[1;32m--> 153\u001b[0m \u001b[38;5;28;01mreturn\u001b[39;00m \u001b[43mnp\u001b[49m\u001b[38;5;241;43m.\u001b[39;49m\u001b[43mlinalg\u001b[49m\u001b[38;5;241;43m.\u001b[39;49m\u001b[43msolve\u001b[49m\u001b[43m(\u001b[49m\u001b[43mlhs\u001b[49m\u001b[43m,\u001b[49m\u001b[43m \u001b[49m\u001b[43mrhs\u001b[49m\u001b[43m)\u001b[49m\n",
      "File \u001b[1;32m<__array_function__ internals>:180\u001b[0m, in \u001b[0;36msolve\u001b[1;34m(*args, **kwargs)\u001b[0m\n",
      "File \u001b[1;32m~\\Anaconda3\\envs\\recom\\lib\\site-packages\\numpy\\linalg\\linalg.py:400\u001b[0m, in \u001b[0;36msolve\u001b[1;34m(a, b)\u001b[0m\n\u001b[0;32m    398\u001b[0m signature \u001b[38;5;241m=\u001b[39m \u001b[38;5;124m'\u001b[39m\u001b[38;5;124mDD->D\u001b[39m\u001b[38;5;124m'\u001b[39m \u001b[38;5;28;01mif\u001b[39;00m isComplexType(t) \u001b[38;5;28;01melse\u001b[39;00m \u001b[38;5;124m'\u001b[39m\u001b[38;5;124mdd->d\u001b[39m\u001b[38;5;124m'\u001b[39m\n\u001b[0;32m    399\u001b[0m extobj \u001b[38;5;241m=\u001b[39m get_linalg_error_extobj(_raise_linalgerror_singular)\n\u001b[1;32m--> 400\u001b[0m r \u001b[38;5;241m=\u001b[39m \u001b[43mgufunc\u001b[49m\u001b[43m(\u001b[49m\u001b[43ma\u001b[49m\u001b[43m,\u001b[49m\u001b[43m \u001b[49m\u001b[43mb\u001b[49m\u001b[43m,\u001b[49m\u001b[43m \u001b[49m\u001b[43msignature\u001b[49m\u001b[38;5;241;43m=\u001b[39;49m\u001b[43msignature\u001b[49m\u001b[43m,\u001b[49m\u001b[43m \u001b[49m\u001b[43mextobj\u001b[49m\u001b[38;5;241;43m=\u001b[39;49m\u001b[43mextobj\u001b[49m\u001b[43m)\u001b[49m\n\u001b[0;32m    402\u001b[0m \u001b[38;5;28;01mreturn\u001b[39;00m wrap(r\u001b[38;5;241m.\u001b[39mastype(result_t, copy\u001b[38;5;241m=\u001b[39m\u001b[38;5;28;01mFalse\u001b[39;00m))\n",
      "\u001b[1;31mKeyboardInterrupt\u001b[0m: "
     ]
    }
   ],
   "source": [
    "# 評価\n",
    "df_out = []\n",
    "for embedding_dim in [2, 4, 8, 16, 128, 256, 512, 1024, 2048]:\n",
    "    for regularization in [0.1, 0.03, 0.01, 0.003, 0.001, 0.0003]:\n",
    "        for unobserved_weight in [1, 0.3, 0.1, 0.03, 0.01, 0.003]:\n",
    "            recommend_result = recommender.recommend(movielens,\n",
    "                                                     epochs=16,\n",
    "                                                     embedding_dim=embedding_dim,\n",
    "                                                     regularization=regularization,\n",
    "                                                     unobserved_weight=unobserved_weight,\n",
    "                                                    )\n",
    "            metric_calculator = MetricCalculator()\n",
    "            metrics = metric_calculator.calc(\n",
    "                movielens.test.rating.tolist(), recommend_result.rating.tolist(),\n",
    "                movielens.test_user2items, recommend_result.user2items, k=10)\n",
    "            print(embedding_dim,regularization,unobserved_weight,metrics.precision_at_k,metrics.recall_at_k)\n",
    "            df_out.append([embedding_dim,regularization,unobserved_weight,metrics.precision_at_k,metrics.recall_at_k])"
   ]
  },
  {
   "cell_type": "code",
   "execution_count": 6,
   "id": "26ae7543",
   "metadata": {},
   "outputs": [
    {
     "data": {
      "text/html": [
       "<div>\n",
       "<style scoped>\n",
       "    .dataframe tbody tr th:only-of-type {\n",
       "        vertical-align: middle;\n",
       "    }\n",
       "\n",
       "    .dataframe tbody tr th {\n",
       "        vertical-align: top;\n",
       "    }\n",
       "\n",
       "    .dataframe thead th {\n",
       "        text-align: right;\n",
       "    }\n",
       "</style>\n",
       "<table border=\"1\" class=\"dataframe\">\n",
       "  <thead>\n",
       "    <tr style=\"text-align: right;\">\n",
       "      <th></th>\n",
       "      <th>embedding_dim</th>\n",
       "      <th>regularization</th>\n",
       "      <th>unobserved_weight</th>\n",
       "      <th>Precision@K</th>\n",
       "      <th>Recall@K</th>\n",
       "    </tr>\n",
       "  </thead>\n",
       "  <tbody>\n",
       "    <tr>\n",
       "      <th>0</th>\n",
       "      <td>2</td>\n",
       "      <td>0.1</td>\n",
       "      <td>1.00</td>\n",
       "      <td>0.015435</td>\n",
       "      <td>0.049130</td>\n",
       "    </tr>\n",
       "    <tr>\n",
       "      <th>1</th>\n",
       "      <td>2</td>\n",
       "      <td>0.1</td>\n",
       "      <td>0.30</td>\n",
       "      <td>0.015326</td>\n",
       "      <td>0.048895</td>\n",
       "    </tr>\n",
       "    <tr>\n",
       "      <th>2</th>\n",
       "      <td>2</td>\n",
       "      <td>0.1</td>\n",
       "      <td>0.10</td>\n",
       "      <td>0.016087</td>\n",
       "      <td>0.050145</td>\n",
       "    </tr>\n",
       "    <tr>\n",
       "      <th>3</th>\n",
       "      <td>2</td>\n",
       "      <td>0.1</td>\n",
       "      <td>0.03</td>\n",
       "      <td>0.018043</td>\n",
       "      <td>0.059764</td>\n",
       "    </tr>\n",
       "    <tr>\n",
       "      <th>4</th>\n",
       "      <td>2</td>\n",
       "      <td>0.1</td>\n",
       "      <td>0.01</td>\n",
       "      <td>0.015109</td>\n",
       "      <td>0.049710</td>\n",
       "    </tr>\n",
       "    <tr>\n",
       "      <th>...</th>\n",
       "      <td>...</td>\n",
       "      <td>...</td>\n",
       "      <td>...</td>\n",
       "      <td>...</td>\n",
       "      <td>...</td>\n",
       "    </tr>\n",
       "    <tr>\n",
       "      <th>216</th>\n",
       "      <td>512</td>\n",
       "      <td>0.1</td>\n",
       "      <td>1.00</td>\n",
       "      <td>0.015435</td>\n",
       "      <td>0.049130</td>\n",
       "    </tr>\n",
       "    <tr>\n",
       "      <th>217</th>\n",
       "      <td>512</td>\n",
       "      <td>0.1</td>\n",
       "      <td>0.30</td>\n",
       "      <td>0.015543</td>\n",
       "      <td>0.049620</td>\n",
       "    </tr>\n",
       "    <tr>\n",
       "      <th>218</th>\n",
       "      <td>512</td>\n",
       "      <td>0.1</td>\n",
       "      <td>0.10</td>\n",
       "      <td>0.016087</td>\n",
       "      <td>0.050145</td>\n",
       "    </tr>\n",
       "    <tr>\n",
       "      <th>219</th>\n",
       "      <td>512</td>\n",
       "      <td>0.1</td>\n",
       "      <td>0.03</td>\n",
       "      <td>0.019783</td>\n",
       "      <td>0.063116</td>\n",
       "    </tr>\n",
       "    <tr>\n",
       "      <th>220</th>\n",
       "      <td>512</td>\n",
       "      <td>0.1</td>\n",
       "      <td>0.01</td>\n",
       "      <td>0.017174</td>\n",
       "      <td>0.053370</td>\n",
       "    </tr>\n",
       "  </tbody>\n",
       "</table>\n",
       "<p>221 rows × 5 columns</p>\n",
       "</div>"
      ],
      "text/plain": [
       "     embedding_dim  regularization  unobserved_weight  Precision@K  Recall@K\n",
       "0                2             0.1               1.00     0.015435  0.049130\n",
       "1                2             0.1               0.30     0.015326  0.048895\n",
       "2                2             0.1               0.10     0.016087  0.050145\n",
       "3                2             0.1               0.03     0.018043  0.059764\n",
       "4                2             0.1               0.01     0.015109  0.049710\n",
       "..             ...             ...                ...          ...       ...\n",
       "216            512             0.1               1.00     0.015435  0.049130\n",
       "217            512             0.1               0.30     0.015543  0.049620\n",
       "218            512             0.1               0.10     0.016087  0.050145\n",
       "219            512             0.1               0.03     0.019783  0.063116\n",
       "220            512             0.1               0.01     0.017174  0.053370\n",
       "\n",
       "[221 rows x 5 columns]"
      ]
     },
     "execution_count": 6,
     "metadata": {},
     "output_type": "execute_result"
    }
   ],
   "source": [
    "import pandas as pd\n",
    "df_out = pd.DataFrame(df_out,columns=['embedding_dim','regularization','unobserved_weight','Precision@K','Recall@K'])\n",
    "df_out"
   ]
  },
  {
   "cell_type": "code",
   "execution_count": 8,
   "id": "d667fb18",
   "metadata": {},
   "outputs": [],
   "source": [
    "df_out.to_csv('iALS_output.csv',index=None)"
   ]
  },
  {
   "cell_type": "code",
   "execution_count": null,
   "id": "fbce7164",
   "metadata": {},
   "outputs": [],
   "source": []
  }
 ],
 "metadata": {
  "kernelspec": {
   "display_name": "Python 3 (ipykernel)",
   "language": "python",
   "name": "python3"
  },
  "language_info": {
   "codemirror_mode": {
    "name": "ipython",
    "version": 3
   },
   "file_extension": ".py",
   "mimetype": "text/x-python",
   "name": "python",
   "nbconvert_exporter": "python",
   "pygments_lexer": "ipython3",
   "version": "3.9.15"
  }
 },
 "nbformat": 4,
 "nbformat_minor": 5
}
